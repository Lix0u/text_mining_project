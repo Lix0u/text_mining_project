{
 "cells": [
  {
   "cell_type": "markdown",
   "source": [
    "idea : scrap IMDB for movie reviews and use them to improve the classification of the movie genre?\n",
    "try different classifiers and see which one works best\n",
    "try different vectorizers and see which one works best\n",
    "try different preprocessing and see which one works best"
   ],
   "metadata": {
    "collapsed": false
   },
   "id": "e26a5326155da961"
  },
  {
   "cell_type": "code",
   "execution_count": 20,
   "id": "initial_id",
   "metadata": {
    "collapsed": true,
    "ExecuteTime": {
     "end_time": "2023-12-26T16:24:09.797267Z",
     "start_time": "2023-12-26T16:24:01.802143Z"
    }
   },
   "outputs": [],
   "source": [
    "import pandas as pd\n",
    "\n",
    "train_df = pd.read_csv('Genre Classification Dataset-IMDB/train_data.txt', sep=':::', names=['Title', 'Genre', 'Description'], engine='python')\n",
    "test_df = pd.read_csv('Genre Classification Dataset-IMDB/test_data.txt', sep=':::', names=['Title', 'Description'], engine='python')\n",
    "test_df_solution = pd.read_csv('Genre Classification Dataset-IMDB/test_data_solution.txt', sep=':::', names=['Title', 'Genre', 'Description'], engine='python')"
   ]
  },
  {
   "cell_type": "code",
   "execution_count": 3,
   "outputs": [
    {
     "name": "stdout",
     "output_type": "stream",
     "text": [
      "54214\n"
     ]
    },
    {
     "data": {
      "text/plain": "                                Title       Genre  \\\n1       Oscar et la dame rose (2009)       drama    \n2                       Cupid (1997)    thriller    \n3   Young, Wild and Wonderful (1980)       adult    \n4              The Secret Sin (1915)       drama    \n5             The Unrecovered (2007)       drama    \n\n                                                                                                                                                                                                                                                                                                                                                                                                                                                                                                                                                                                                                                                                                                                                                                                                                                                                                                                                                                                                                                                                                                                  Description  \n1                                                                                                                                                                                                                                                                                                                                                                                                                                                                                                                                                           Listening in to a conversation between his doctor and parents, 10-year-old Oscar learns what nobody has the courage to tell him. He only has a few weeks to live. Furious, he refuses to speak to anyone except straight-talking Rose, the lady in pink he meets on the hospital stairs. As Christmas approaches, Rose uses her fantastical experiences as a professional wrestler, her imagination, wit and charm to allow Oscar to live life and love to the full, in the company of his friends Pop Corn, Einstein, Bacon and childhood sweetheart Peggy Blue.  \n2                                                                                                                                                                                                                                                                                                                                                                                                                                                                                                                                                                                                                                                                                                                                                                                                                                                                                                                                     A brother and sister with a past incestuous relationship have a current murderous relationship. He murders the women who reject him and she murders the women who get too close to him.  \n3                                                                                                                                                                                                                                                                                                                                                                                                                                                   As the bus empties the students for their field trip to the Museum of Natural History, little does the tour guide suspect that the students are there for more than just another tour. First, during the lecture films, the coeds drift into dreams of the most erotic fantasies one can imagine. After the films, they release the emotion of the fantasies in the most erotic and uncommon ways. One slips off to the curator's office for a little \"acquisition. \" Another finds the anthropologist to see what bones can be identified. Even the head teacher isn't immune. Soon the tour is over, but as the bus departs, everyone admits it was quite an education.  \n4   To help their unemployed father make ends meet, Edith and her twin sister Grace work as seamstresses . An invalid, Grace falls prey to the temptations of Chinatown opium and becomes an addict, a condition worsened by a misguided physician who prescribes morphine to ease her pain. When their father strikes oil, the family enjoys a new prosperity and the sisters meet the eligible Jack Herron, a fellow oil prospector. To Grace's shock, Jack falls in love with Edith and in her jealousy, Grace tells Jack that Edith, not she, has a drug problem. Hinting that her sister will soon need more morphine, Grace arranges for a dinner in Chinatown with the couple. While her sister and Jack dance, Grace slips away to an opium den. Edith follows her, but ends up in the wrong den and is arrested in an ensuing drug raid. After he bails her out of jail, Edith takes an angry Jack to search for Grace and stumbles across her half-conscious body lying in the street. The truth about the sisters is revealed, and after sending Grace to a sanitarium in the country, Jack and Edith are married.  \n5                                                                                                                                                                                                                                                                                                                                                                                                                                                                            The film's title refers not only to the un-recovered bodies at ground zero, but also to the state of the nation at large. Set in the hallucinatory period of time between September 11 and Halloween of 2001, The Unrecovered examines the effect of terror on the average mind, the way a state of heightened anxiety and/or alertness can cause the average person to make the sort of imaginative connections that are normally made only by artists and conspiracy theorists-both of whom figure prominently in this film. The Unrecovered explores the way in which irony, empathy, and paranoia relate to one another in the wake of 9/11.  ",
      "text/html": "<div>\n<style scoped>\n    .dataframe tbody tr th:only-of-type {\n        vertical-align: middle;\n    }\n\n    .dataframe tbody tr th {\n        vertical-align: top;\n    }\n\n    .dataframe thead th {\n        text-align: right;\n    }\n</style>\n<table border=\"1\" class=\"dataframe\">\n  <thead>\n    <tr style=\"text-align: right;\">\n      <th></th>\n      <th>Title</th>\n      <th>Genre</th>\n      <th>Description</th>\n    </tr>\n  </thead>\n  <tbody>\n    <tr>\n      <th>1</th>\n      <td>Oscar et la dame rose (2009)</td>\n      <td>drama</td>\n      <td>Listening in to a conversation between his doctor and parents, 10-year-old Oscar learns what nobody has the courage to tell him. He only has a few weeks to live. Furious, he refuses to speak to anyone except straight-talking Rose, the lady in pink he meets on the hospital stairs. As Christmas approaches, Rose uses her fantastical experiences as a professional wrestler, her imagination, wit and charm to allow Oscar to live life and love to the full, in the company of his friends Pop Corn, Einstein, Bacon and childhood sweetheart Peggy Blue.</td>\n    </tr>\n    <tr>\n      <th>2</th>\n      <td>Cupid (1997)</td>\n      <td>thriller</td>\n      <td>A brother and sister with a past incestuous relationship have a current murderous relationship. He murders the women who reject him and she murders the women who get too close to him.</td>\n    </tr>\n    <tr>\n      <th>3</th>\n      <td>Young, Wild and Wonderful (1980)</td>\n      <td>adult</td>\n      <td>As the bus empties the students for their field trip to the Museum of Natural History, little does the tour guide suspect that the students are there for more than just another tour. First, during the lecture films, the coeds drift into dreams of the most erotic fantasies one can imagine. After the films, they release the emotion of the fantasies in the most erotic and uncommon ways. One slips off to the curator's office for a little \"acquisition. \" Another finds the anthropologist to see what bones can be identified. Even the head teacher isn't immune. Soon the tour is over, but as the bus departs, everyone admits it was quite an education.</td>\n    </tr>\n    <tr>\n      <th>4</th>\n      <td>The Secret Sin (1915)</td>\n      <td>drama</td>\n      <td>To help their unemployed father make ends meet, Edith and her twin sister Grace work as seamstresses . An invalid, Grace falls prey to the temptations of Chinatown opium and becomes an addict, a condition worsened by a misguided physician who prescribes morphine to ease her pain. When their father strikes oil, the family enjoys a new prosperity and the sisters meet the eligible Jack Herron, a fellow oil prospector. To Grace's shock, Jack falls in love with Edith and in her jealousy, Grace tells Jack that Edith, not she, has a drug problem. Hinting that her sister will soon need more morphine, Grace arranges for a dinner in Chinatown with the couple. While her sister and Jack dance, Grace slips away to an opium den. Edith follows her, but ends up in the wrong den and is arrested in an ensuing drug raid. After he bails her out of jail, Edith takes an angry Jack to search for Grace and stumbles across her half-conscious body lying in the street. The truth about the sisters is revealed, and after sending Grace to a sanitarium in the country, Jack and Edith are married.</td>\n    </tr>\n    <tr>\n      <th>5</th>\n      <td>The Unrecovered (2007)</td>\n      <td>drama</td>\n      <td>The film's title refers not only to the un-recovered bodies at ground zero, but also to the state of the nation at large. Set in the hallucinatory period of time between September 11 and Halloween of 2001, The Unrecovered examines the effect of terror on the average mind, the way a state of heightened anxiety and/or alertness can cause the average person to make the sort of imaginative connections that are normally made only by artists and conspiracy theorists-both of whom figure prominently in this film. The Unrecovered explores the way in which irony, empathy, and paranoia relate to one another in the wake of 9/11.</td>\n    </tr>\n  </tbody>\n</table>\n</div>"
     },
     "execution_count": 3,
     "metadata": {},
     "output_type": "execute_result"
    }
   ],
   "source": [
    "pd.set_option('display.max_colwidth', None)\n",
    "print(len(train_df))\n",
    "train_df.head()"
   ],
   "metadata": {
    "collapsed": false,
    "ExecuteTime": {
     "end_time": "2023-12-26T16:17:07.584999Z",
     "start_time": "2023-12-26T16:17:07.555627Z"
    }
   },
   "id": "4be2d66d546eb013"
  },
  {
   "cell_type": "markdown",
   "source": [
    "Let's first look at the data distribution in the different classes"
   ],
   "metadata": {
    "collapsed": false
   },
   "id": "3e338763bf5d6415"
  },
  {
   "cell_type": "code",
   "execution_count": 4,
   "outputs": [
    {
     "data": {
      "text/plain": "<Axes: xlabel='Genre'>"
     },
     "execution_count": 4,
     "metadata": {},
     "output_type": "execute_result"
    },
    {
     "data": {
      "text/plain": "<Figure size 640x480 with 1 Axes>",
      "image/png": "[encoded data removed]"
     },
     "metadata": {},
     "output_type": "display_data"
    }
   ],
   "source": [
    "train_df['Genre'].value_counts().plot(kind='bar')"
   ],
   "metadata": {
    "collapsed": false,
    "ExecuteTime": {
     "end_time": "2023-12-26T16:17:08.168198Z",
     "start_time": "2023-12-26T16:17:07.567260Z"
    }
   },
   "id": "d3cad42ba72c49f8"
  },
  {
   "cell_type": "markdown",
   "source": [
    "We notice that the data is pretty uneven. There are a lot of drama and documentary movies and very few news and war movies"
   ],
   "metadata": {
    "collapsed": false
   },
   "id": "388d0b1e373db11f"
  },
  {
   "cell_type": "markdown",
   "source": [
    "Let's look at the distribution of the number of words in the description"
   ],
   "metadata": {
    "collapsed": false
   },
   "id": "e4702206192539eb"
  },
  {
   "cell_type": "code",
   "execution_count": 5,
   "outputs": [
    {
     "data": {
      "text/plain": "<Axes: >"
     },
     "execution_count": 5,
     "metadata": {},
     "output_type": "execute_result"
    },
    {
     "data": {
      "text/plain": "<Figure size 640x480 with 1 Axes>",
      "image/png": "[encoded data removed]"
     },
     "metadata": {},
     "output_type": "display_data"
    }
   ],
   "source": [
    "train_df['Description'].str.split().str.len().hist(bins=100)"
   ],
   "metadata": {
    "collapsed": false,
    "ExecuteTime": {
     "end_time": "2023-12-26T16:17:08.935392Z",
     "start_time": "2023-12-26T16:17:08.315550Z"
    }
   },
   "id": "12d3ad20693a096e"
  },
  {
   "cell_type": "markdown",
   "source": [
    "We notice that most of the descriptions are between 0 and 100 words long"
   ],
   "metadata": {
    "collapsed": false
   },
   "id": "9d59deb50b6a38fd"
  },
  {
   "cell_type": "code",
   "outputs": [],
   "source": [
    "######################################\n",
    "#cleaning the data ?\n",
    "######################################\n"
   ],
   "metadata": {
    "collapsed": false,
    "ExecuteTime": {
     "end_time": "2023-12-26T16:17:08.936058Z",
     "start_time": "2023-12-26T16:17:08.928369Z"
    }
   },
   "id": "c43650af6e662290",
   "execution_count": 6
  },
  {
   "cell_type": "markdown",
   "source": [
    "We can now start by vectorizing the descriptions"
   ],
   "metadata": {
    "collapsed": false
   },
   "id": "7c41c630b9afa07a"
  },
  {
   "cell_type": "code",
   "outputs": [],
   "source": [
    "from sklearn.feature_extraction.text import TfidfVectorizer\n",
    "vectorizer = TfidfVectorizer(stop_words='english')\n",
    "synopses_tfidf = vectorizer.fit_transform(train_df['Description'])"
   ],
   "metadata": {
    "collapsed": false,
    "ExecuteTime": {
     "end_time": "2023-12-26T16:17:11.426551Z",
     "start_time": "2023-12-26T16:17:08.936946Z"
    }
   },
   "id": "83505c947050bd99",
   "execution_count": 7
  },
  {
   "cell_type": "markdown",
   "source": [
    "We can now use the vectorized descriptions to train a classifier. We will first try a kmeans classifier"
   ],
   "metadata": {
    "collapsed": false
   },
   "id": "d5fa54d8d1c2015"
  },
  {
   "cell_type": "code",
   "outputs": [],
   "source": [
    "from sklearn.cluster import KMeans\n",
    "def fit_kmeans(data, n_clusters):\n",
    "    \"\"\"Fit a k-means classifier to some data.\n",
    "\n",
    "    Arguments:\n",
    "        data: The vectorized data to train the classifier on.\n",
    "        n_clusters (int): The number of clusters.\n",
    "\n",
    "    Returns:\n",
    "        The trained k-means classifier.\n",
    "    \"\"\"\n",
    "    kmeans = KMeans(n_clusters=n_clusters, n_init='auto')\n",
    "    kmeans.fit(data)\n",
    "    return kmeans"
   ],
   "metadata": {
    "collapsed": false,
    "ExecuteTime": {
     "end_time": "2023-12-26T16:17:12.096083Z",
     "start_time": "2023-12-26T16:17:11.423523Z"
    }
   },
   "id": "de3475c20521a9c8",
   "execution_count": 8
  },
  {
   "cell_type": "code",
   "outputs": [],
   "source": [
    "n_clusters = train_df['Genre'].nunique()\n",
    "kmeans = fit_kmeans(synopses_tfidf, n_clusters)"
   ],
   "metadata": {
    "collapsed": false,
    "ExecuteTime": {
     "end_time": "2023-12-26T16:17:27.260293Z",
     "start_time": "2023-12-26T16:17:12.099020Z"
    }
   },
   "id": "8010bf03951efd45",
   "execution_count": 9
  },
  {
   "cell_type": "code",
   "outputs": [
    {
     "name": "stdout",
     "output_type": "stream",
     "text": [
      "0.7874910371226242\n"
     ]
    }
   ],
   "source": [
    "from sklearn.metrics import rand_score\n",
    "gold_labels = train_df['Genre'].tolist()\n",
    "pred_labels = kmeans.labels_\n",
    "print(rand_score(pred_labels, gold_labels))"
   ],
   "metadata": {
    "collapsed": false,
    "ExecuteTime": {
     "end_time": "2023-12-26T16:19:55.463721Z",
     "start_time": "2023-12-26T16:19:55.420299Z"
    }
   },
   "id": "b1c2b41cb2767c2c",
   "execution_count": 18
  },
  {
   "cell_type": "markdown",
   "source": [
    "we can now try on the test data"
   ],
   "metadata": {
    "collapsed": false
   },
   "id": "67f097117e6df5ab"
  },
  {
   "cell_type": "code",
   "outputs": [
    {
     "name": "stdout",
     "output_type": "stream",
     "text": [
      "0.7890159470405936\n"
     ]
    }
   ],
   "source": [
    "synopses_tfidf_test = vectorizer.transform(test_df['Description'])\n",
    "pred_labels_test = kmeans.predict(synopses_tfidf_test)\n",
    "gold_labels_test = test_df_solution['Genre'].tolist()\n",
    "print(rand_score(pred_labels_test, gold_labels_test))"
   ],
   "metadata": {
    "collapsed": false,
    "ExecuteTime": {
     "end_time": "2023-12-26T16:25:11.495796Z",
     "start_time": "2023-12-26T16:25:09.480522Z"
    }
   },
   "id": "b14cd5a06fe07f34",
   "execution_count": 21
  },
  {
   "cell_type": "markdown",
   "source": [
    "We can now try to use a random forest classifier"
   ],
   "metadata": {
    "collapsed": false
   },
   "id": "c87218bce7c17787"
  },
  {
   "cell_type": "code",
   "outputs": [],
   "source": [
    "from sklearn.ensemble import RandomForestClassifier\n",
    "def fit_random_forest(data, labels, n_estimators=100, random_state=0):\n",
    "    \"\"\"Fit a random forest classifier to some data.\n",
    "\n",
    "    Arguments:\n",
    "        data: The vectorized data to train the classifier on.\n",
    "        labels: The gold-standard labels.\n",
    "\n",
    "    Returns:\n",
    "        The trained random forest classifier.\n",
    "    \"\"\"\n",
    "    rf = RandomForestClassifier(n_estimators=n_estimators, random_state=random_state)\n",
    "    rf.fit(data, labels)\n",
    "    return rf"
   ],
   "metadata": {
    "collapsed": false,
    "ExecuteTime": {
     "end_time": "2023-12-26T17:02:38.459391Z",
     "start_time": "2023-12-26T17:02:38.456083Z"
    }
   },
   "id": "99c44f0006fb768b",
   "execution_count": 42
  },
  {
   "cell_type": "code",
   "outputs": [],
   "source": [
    "rf = fit_random_forest(synopses_tfidf, gold_labels)"
   ],
   "metadata": {
    "collapsed": false,
    "ExecuteTime": {
     "end_time": "2023-12-26T17:16:00.343966Z",
     "start_time": "2023-12-26T17:02:38.736238Z"
    }
   },
   "id": "905a5f68489f338c",
   "execution_count": 43
  },
  {
   "cell_type": "code",
   "outputs": [
    {
     "name": "stdout",
     "output_type": "stream",
     "text": [
      "0.9997599900853035\n"
     ]
    }
   ],
   "source": [
    "pred_labels = rf.predict(synopses_tfidf)\n",
    "print(rand_score(pred_labels, gold_labels))"
   ],
   "metadata": {
    "collapsed": false,
    "ExecuteTime": {
     "end_time": "2023-12-26T17:16:03.369987Z",
     "start_time": "2023-12-26T17:16:00.351046Z"
    }
   },
   "id": "38031463fd8876ff",
   "execution_count": 44
  },
  {
   "cell_type": "code",
   "outputs": [
    {
     "name": "stdout",
     "output_type": "stream",
     "text": [
      "0.6933589309970112\n"
     ]
    }
   ],
   "source": [
    "pred_labels_test = rf.predict(synopses_tfidf_test)\n",
    "print(rand_score(pred_labels_test, gold_labels_test))"
   ],
   "metadata": {
    "collapsed": false,
    "ExecuteTime": {
     "end_time": "2023-12-26T17:16:06.087067Z",
     "start_time": "2023-12-26T17:16:03.366939Z"
    }
   },
   "id": "944f051b56f2dce1",
   "execution_count": 45
  },
  {
   "cell_type": "markdown",
   "source": [
    "we can see that the random forest classifier overfits the training data."
   ],
   "metadata": {
    "collapsed": false
   },
   "id": "7ed12428e403e1e9"
  },
  {
   "cell_type": "code",
   "outputs": [
    {
     "name": "stdout",
     "output_type": "stream",
     "text": [
      "120800\n"
     ]
    }
   ],
   "source": [
    "#print number of features\n",
    "print(rf.n_features_in_)"
   ],
   "metadata": {
    "collapsed": false,
    "ExecuteTime": {
     "end_time": "2023-12-26T17:16:06.091094Z",
     "start_time": "2023-12-26T17:16:06.086605Z"
    }
   },
   "id": "e3e87a5e820710f7",
   "execution_count": 46
  },
  {
   "cell_type": "code",
   "outputs": [],
   "source": [],
   "metadata": {
    "collapsed": false
   },
   "id": "c2e500974f884aeb"
  }
 ],
 "metadata": {
  "kernelspec": {
   "display_name": "Python 3",
   "language": "python",
   "name": "python3"
  },
  "language_info": {
   "codemirror_mode": {
    "name": "ipython",
    "version": 2
   },
   "file_extension": ".py",
   "mimetype": "text/x-python",
   "name": "python",
   "nbconvert_exporter": "python",
   "pygments_lexer": "ipython2",
   "version": "2.7.6"
  }
 },
 "nbformat": 4,
 "nbformat_minor": 5
}
