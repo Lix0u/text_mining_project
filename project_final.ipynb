{
 "cells": [
  {
   "cell_type": "code",
   "execution_count": 1,
   "id": "b181e8a6920a5d07",
   "metadata": {
    "ExecuteTime": {
     "end_time": "2024-01-12T17:38:58.918548Z",
     "start_time": "2024-01-12T17:38:57.347148Z"
    },
    "collapsed": false
   },
   "outputs": [],
   "source": [
    "import numpy as np\n",
    "import pandas as pd\n",
    "from sklearn.feature_extraction.text import TfidfVectorizer\n",
    "from sklearn.cluster import KMeans\n",
    "from sklearn.ensemble import RandomForestClassifier\n",
    "from sklearn.neural_network import MLPClassifier\n",
    "from sklearn.model_selection import KFold, GridSearchCV\n",
    "from json import dump, load\n",
    "from os.path import exists\n",
    "from sklearn.metrics import rand_score, f1_score\n",
    "import itertools\n",
    "from scipy import sparse\n",
    "from sklearn.neighbors import KNeighborsClassifier"
   ]
  },
  {
   "cell_type": "code",
   "execution_count": 2,
   "id": "initial_id",
   "metadata": {
    "ExecuteTime": {
     "end_time": "2024-01-12T17:39:00.168762Z",
     "start_time": "2024-01-12T17:38:58.918480Z"
    },
    "collapsed": true
   },
   "outputs": [],
   "source": [
    "#read in data\n",
    "train_df = pd.read_csv('Genre Classification Dataset-IMDB/train_data.txt', sep=' ::: ', names=['Title', 'Genre', 'Description'], engine='python')\n",
    "test_df = pd.read_csv('Genre Classification Dataset-IMDB/test_data.txt', sep=' ::: ', names=['Title', 'Description'], engine='python')\n",
    "test_df_solution = pd.read_csv('Genre Classification Dataset-IMDB/test_data_solution.txt', sep=' ::: ', names=['Title', 'Genre', 'Description'], engine='python')"
   ]
  },
  {
   "cell_type": "markdown",
   "id": "f0e2e6ed22a02d3b",
   "metadata": {
    "collapsed": false
   },
   "source": [
    "# Data Exploration"
   ]
  },
  {
   "cell_type": "code",
   "execution_count": 3,
   "id": "af510e3e67193ad8",
   "metadata": {
    "ExecuteTime": {
     "end_time": "2024-01-12T17:39:00.177203Z",
     "start_time": "2024-01-12T17:39:00.170699Z"
    },
    "collapsed": false
   },
   "outputs": [
    {
     "name": "stdout",
     "output_type": "stream",
     "text": [
      "54214\n"
     ]
    },
    {
     "data": {
      "text/html": [
       "<div>\n",
       "<style scoped>\n",
       "    .dataframe tbody tr th:only-of-type {\n",
       "        vertical-align: middle;\n",
       "    }\n",
       "\n",
       "    .dataframe tbody tr th {\n",
       "        vertical-align: top;\n",
       "    }\n",
       "\n",
       "    .dataframe thead th {\n",
       "        text-align: right;\n",
       "    }\n",
       "</style>\n",
       "<table border=\"1\" class=\"dataframe\">\n",
       "  <thead>\n",
       "    <tr style=\"text-align: right;\">\n",
       "      <th></th>\n",
       "      <th>Title</th>\n",
       "      <th>Genre</th>\n",
       "      <th>Description</th>\n",
       "    </tr>\n",
       "  </thead>\n",
       "  <tbody>\n",
       "    <tr>\n",
       "      <th>1</th>\n",
       "      <td>Oscar et la dame rose (2009)</td>\n",
       "      <td>drama</td>\n",
       "      <td>Listening in to a conversation between his doctor and parents, 10-year-old Oscar learns what nobody has the courage to tell him. He only has a few weeks to live. Furious, he refuses to speak to anyone except straight-talking Rose, the lady in pink he meets on the hospital stairs. As Christmas approaches, Rose uses her fantastical experiences as a professional wrestler, her imagination, wit and charm to allow Oscar to live life and love to the full, in the company of his friends Pop Corn, Einstein, Bacon and childhood sweetheart Peggy Blue.</td>\n",
       "    </tr>\n",
       "    <tr>\n",
       "      <th>2</th>\n",
       "      <td>Cupid (1997)</td>\n",
       "      <td>thriller</td>\n",
       "      <td>A brother and sister with a past incestuous relationship have a current murderous relationship. He murders the women who reject him and she murders the women who get too close to him.</td>\n",
       "    </tr>\n",
       "    <tr>\n",
       "      <th>3</th>\n",
       "      <td>Young, Wild and Wonderful (1980)</td>\n",
       "      <td>adult</td>\n",
       "      <td>As the bus empties the students for their field trip to the Museum of Natural History, little does the tour guide suspect that the students are there for more than just another tour. First, during the lecture films, the coeds drift into dreams of the most erotic fantasies one can imagine. After the films, they release the emotion of the fantasies in the most erotic and uncommon ways. One slips off to the curator's office for a little \"acquisition. \" Another finds the anthropologist to see what bones can be identified. Even the head teacher isn't immune. Soon the tour is over, but as the bus departs, everyone admits it was quite an education.</td>\n",
       "    </tr>\n",
       "    <tr>\n",
       "      <th>4</th>\n",
       "      <td>The Secret Sin (1915)</td>\n",
       "      <td>drama</td>\n",
       "      <td>To help their unemployed father make ends meet, Edith and her twin sister Grace work as seamstresses . An invalid, Grace falls prey to the temptations of Chinatown opium and becomes an addict, a condition worsened by a misguided physician who prescribes morphine to ease her pain. When their father strikes oil, the family enjoys a new prosperity and the sisters meet the eligible Jack Herron, a fellow oil prospector. To Grace's shock, Jack falls in love with Edith and in her jealousy, Grace tells Jack that Edith, not she, has a drug problem. Hinting that her sister will soon need more morphine, Grace arranges for a dinner in Chinatown with the couple. While her sister and Jack dance, Grace slips away to an opium den. Edith follows her, but ends up in the wrong den and is arrested in an ensuing drug raid. After he bails her out of jail, Edith takes an angry Jack to search for Grace and stumbles across her half-conscious body lying in the street. The truth about the sisters is revealed, and after sending Grace to a sanitarium in the country, Jack and Edith are married.</td>\n",
       "    </tr>\n",
       "    <tr>\n",
       "      <th>5</th>\n",
       "      <td>The Unrecovered (2007)</td>\n",
       "      <td>drama</td>\n",
       "      <td>The film's title refers not only to the un-recovered bodies at ground zero, but also to the state of the nation at large. Set in the hallucinatory period of time between September 11 and Halloween of 2001, The Unrecovered examines the effect of terror on the average mind, the way a state of heightened anxiety and/or alertness can cause the average person to make the sort of imaginative connections that are normally made only by artists and conspiracy theorists-both of whom figure prominently in this film. The Unrecovered explores the way in which irony, empathy, and paranoia relate to one another in the wake of 9/11.</td>\n",
       "    </tr>\n",
       "  </tbody>\n",
       "</table>\n",
       "</div>"
      ],
      "text/plain": [
       "                              Title     Genre  \\\n",
       "1      Oscar et la dame rose (2009)     drama   \n",
       "2                      Cupid (1997)  thriller   \n",
       "3  Young, Wild and Wonderful (1980)     adult   \n",
       "4             The Secret Sin (1915)     drama   \n",
       "5            The Unrecovered (2007)     drama   \n",
       "\n",
       "                                                                                                                                                                                                                                                                                                                                                                                                                                                                                                                                                                                                                                                                                                                                                                                                                                                                                                                                                                                                                                                                                                                 Description  \n",
       "1                                                                                                                                                                                                                                                                                                                                                                                                                                                                                                                                                          Listening in to a conversation between his doctor and parents, 10-year-old Oscar learns what nobody has the courage to tell him. He only has a few weeks to live. Furious, he refuses to speak to anyone except straight-talking Rose, the lady in pink he meets on the hospital stairs. As Christmas approaches, Rose uses her fantastical experiences as a professional wrestler, her imagination, wit and charm to allow Oscar to live life and love to the full, in the company of his friends Pop Corn, Einstein, Bacon and childhood sweetheart Peggy Blue.  \n",
       "2                                                                                                                                                                                                                                                                                                                                                                                                                                                                                                                                                                                                                                                                                                                                                                                                                                                                                                                                    A brother and sister with a past incestuous relationship have a current murderous relationship. He murders the women who reject him and she murders the women who get too close to him.  \n",
       "3                                                                                                                                                                                                                                                                                                                                                                                                                                                  As the bus empties the students for their field trip to the Museum of Natural History, little does the tour guide suspect that the students are there for more than just another tour. First, during the lecture films, the coeds drift into dreams of the most erotic fantasies one can imagine. After the films, they release the emotion of the fantasies in the most erotic and uncommon ways. One slips off to the curator's office for a little \"acquisition. \" Another finds the anthropologist to see what bones can be identified. Even the head teacher isn't immune. Soon the tour is over, but as the bus departs, everyone admits it was quite an education.  \n",
       "4  To help their unemployed father make ends meet, Edith and her twin sister Grace work as seamstresses . An invalid, Grace falls prey to the temptations of Chinatown opium and becomes an addict, a condition worsened by a misguided physician who prescribes morphine to ease her pain. When their father strikes oil, the family enjoys a new prosperity and the sisters meet the eligible Jack Herron, a fellow oil prospector. To Grace's shock, Jack falls in love with Edith and in her jealousy, Grace tells Jack that Edith, not she, has a drug problem. Hinting that her sister will soon need more morphine, Grace arranges for a dinner in Chinatown with the couple. While her sister and Jack dance, Grace slips away to an opium den. Edith follows her, but ends up in the wrong den and is arrested in an ensuing drug raid. After he bails her out of jail, Edith takes an angry Jack to search for Grace and stumbles across her half-conscious body lying in the street. The truth about the sisters is revealed, and after sending Grace to a sanitarium in the country, Jack and Edith are married.  \n",
       "5                                                                                                                                                                                                                                                                                                                                                                                                                                                                           The film's title refers not only to the un-recovered bodies at ground zero, but also to the state of the nation at large. Set in the hallucinatory period of time between September 11 and Halloween of 2001, The Unrecovered examines the effect of terror on the average mind, the way a state of heightened anxiety and/or alertness can cause the average person to make the sort of imaginative connections that are normally made only by artists and conspiracy theorists-both of whom figure prominently in this film. The Unrecovered explores the way in which irony, empathy, and paranoia relate to one another in the wake of 9/11.  "
      ]
     },
     "execution_count": 3,
     "metadata": {},
     "output_type": "execute_result"
    }
   ],
   "source": [
    "pd.set_option('display.max_colwidth', None)\n",
    "print(len(train_df))\n",
    "train_df.head()"
   ]
  },
  {
   "cell_type": "code",
   "execution_count": 4,
   "id": "8463dd1e9d056a40",
   "metadata": {
    "ExecuteTime": {
     "end_time": "2024-01-12T17:39:00.846569Z",
     "start_time": "2024-01-12T17:39:00.179486Z"
    },
    "collapsed": false
   },
   "outputs": [
    {
     "data": {
      "text/plain": [
       "<Axes: xlabel='Genre'>"
      ]
     },
     "execution_count": 4,
     "metadata": {},
     "output_type": "execute_result"
    },
    {
     "data": {
      "image/png": "[encoded data removed]",
      "text/plain": [
       "<Figure size 640x480 with 1 Axes>"
      ]
     },
     "metadata": {},
     "output_type": "display_data"
    }
   ],
   "source": [
    "#data distribution\n",
    "train_df['Genre'].value_counts().plot(kind='bar')"
   ]
  },
  {
   "cell_type": "code",
   "execution_count": 5,
   "id": "ba804144a5e0cd8a",
   "metadata": {
    "ExecuteTime": {
     "end_time": "2024-01-12T17:39:00.964523Z",
     "start_time": "2024-01-12T17:39:00.874943Z"
    },
    "collapsed": false
   },
   "outputs": [
    {
     "data": {
      "text/plain": [
       "Title          0\n",
       "Genre          0\n",
       "Description    0\n",
       "dtype: int64"
      ]
     },
     "execution_count": 5,
     "metadata": {},
     "output_type": "execute_result"
    }
   ],
   "source": [
    "#check for null values\n",
    "train_df.isnull().sum()"
   ]
  },
  {
   "cell_type": "code",
   "execution_count": 6,
   "id": "48b2ce7d59929c34",
   "metadata": {
    "ExecuteTime": {
     "end_time": "2024-01-12T17:39:00.976070Z",
     "start_time": "2024-01-12T17:39:00.910405Z"
    },
    "collapsed": false
   },
   "outputs": [
    {
     "data": {
      "text/plain": [
       "Title          0\n",
       "Description    0\n",
       "dtype: int64"
      ]
     },
     "execution_count": 6,
     "metadata": {},
     "output_type": "execute_result"
    }
   ],
   "source": [
    "test_df.isnull().sum()"
   ]
  },
  {
   "cell_type": "markdown",
   "id": "e7aa0e918403dd2",
   "metadata": {
    "collapsed": false
   },
   "source": [
    "# Preprocessing"
   ]
  },
  {
   "cell_type": "code",
   "execution_count": 7,
   "id": "ea5b0e1969509a92",
   "metadata": {
    "ExecuteTime": {
     "end_time": "2024-01-12T17:39:00.982959Z",
     "start_time": "2024-01-12T17:39:00.921733Z"
    },
    "collapsed": false
   },
   "outputs": [],
   "source": [
    "# the index of train_df begins at 1, we change it to start at 0\n",
    "train_df.index = train_df.index - 1"
   ]
  },
  {
   "cell_type": "code",
   "execution_count": 8,
   "id": "9fbdf62c7c7dc348",
   "metadata": {
    "ExecuteTime": {
     "end_time": "2024-01-12T17:39:01.285721Z",
     "start_time": "2024-01-12T17:39:00.933101Z"
    },
    "collapsed": false
   },
   "outputs": [
    {
     "data": {
      "image/png": "[encoded data removed]",
      "text/plain": [
       "<Figure size 640x480 with 1 Axes>"
      ]
     },
     "metadata": {},
     "output_type": "display_data"
    }
   ],
   "source": [
    "#create a new dataset the new tags\n",
    "train_df_new_categories = train_df.copy()\n",
    "#if the genre is biography or history change it to documentary\n",
    "train_df_new_categories['Genre'] = train_df_new_categories['Genre'].replace(['biography', 'history'], 'documentary')\n",
    "#if the genre is thriller change it to horror\n",
    "train_df_new_categories['Genre'] = train_df_new_categories['Genre'].replace(['thriller'], 'horror')\n",
    "#if the genre is  war change it to action\n",
    "train_df_new_categories['Genre'] = train_df_new_categories['Genre'].replace(['war'], 'action')\n",
    "#if the genre is animation change it to family\n",
    "train_df_new_categories['Genre'] = train_df_new_categories['Genre'].replace(['animation'], 'family')\n",
    "#if the genre is musical change it to music\n",
    "train_df_new_categories['Genre'] = train_df_new_categories['Genre'].replace(['musical'], 'music')\n",
    "#if the genre is fantasy change it to sci-fi\n",
    "train_df_new_categories['Genre'] = train_df_new_categories['Genre'].replace(['fantasy'], 'sci-fi')\n",
    "#remove the genres that represent less than 1% of the data\n",
    "train_df_new_categories = train_df_new_categories.groupby('Genre').filter(lambda x : len(x)>(len(train_df)/100))\n",
    "#print the remaining genres\n",
    "train_df_new_categories['Genre'].value_counts().plot(kind='bar')\n",
    "#reset the index\n",
    "train_df_new_categories = train_df_new_categories.reset_index()"
   ]
  },
  {
   "cell_type": "markdown",
   "id": "1f705a106bfa3ef8",
   "metadata": {
    "collapsed": false
   },
   "source": [
    "still very unbalanced"
   ]
  },
  {
   "cell_type": "code",
   "execution_count": 9,
   "id": "e8fc342bd2b22ab7",
   "metadata": {
    "ExecuteTime": {
     "end_time": "2024-01-12T17:39:01.557629Z",
     "start_time": "2024-01-12T17:39:01.288910Z"
    },
    "collapsed": false
   },
   "outputs": [],
   "source": [
    "# create n balanced datasets\n",
    "n_datasets = 10\n",
    "balanced_datasets = []\n",
    "labels = []\n",
    "for i in range(n_datasets):\n",
    "    new_batch = train_df.groupby('Genre').apply(lambda x: x.sample(1000,replace = True)).reset_index(drop=True)\n",
    "    balanced_datasets.append(new_batch)\n",
    "    labels.append(new_batch['Genre'])"
   ]
  },
  {
   "cell_type": "code",
   "execution_count": 10,
   "id": "9fca43f1275ad830",
   "metadata": {
    "ExecuteTime": {
     "end_time": "2024-01-12T17:39:02.110480Z",
     "start_time": "2024-01-12T17:39:01.556632Z"
    },
    "collapsed": false
   },
   "outputs": [],
   "source": [
    "n_datasets_new_categories = 10\n",
    "balanced_datasets_new_categories = []\n",
    "labels_new_categories = []\n",
    "for i in range(n_datasets):\n",
    "    new_batch = train_df_new_categories.groupby('Genre').apply(lambda x: x.sample(1000,replace = True)).reset_index(drop=True)\n",
    "    balanced_datasets_new_categories.append(new_batch)\n",
    "    labels_new_categories.append(new_batch['Genre'])"
   ]
  },
  {
   "cell_type": "markdown",
   "id": "6e69c802a2cb6a98",
   "metadata": {
    "collapsed": false
   },
   "source": [
    "# models\n",
    "## vectorize data"
   ]
  },
  {
   "cell_type": "code",
   "execution_count": 11,
   "id": "a244291e5c40381f",
   "metadata": {
    "ExecuteTime": {
     "end_time": "2024-01-12T17:39:21.221552Z",
     "start_time": "2024-01-12T17:39:02.082546Z"
    },
    "collapsed": false
   },
   "outputs": [],
   "source": [
    "# vectorize each dataset with unigram\n",
    "vectorizer = TfidfVectorizer(stop_words='english', ngram_range=(1,1))\n",
    "vectorizer.fit(train_df['Description'])\n",
    "vectorizer_initial_df = vectorizer.transform(train_df['Description'])\n",
    "vectorizer_balanced_df = []\n",
    "for i in range(n_datasets):\n",
    "    vectorizer_balanced_df.append(vectorizer.transform(balanced_datasets[i]['Description']))\n",
    "vectorizer_new_categories_df = vectorizer.transform(train_df_new_categories['Description'])\n",
    "vectorizer_balanced_new_categories_df = []\n",
    "for i in range(n_datasets_new_categories):\n",
    "    vectorizer_balanced_new_categories_df.append(vectorizer.transform(balanced_datasets_new_categories[i]['Description']))"
   ]
  },
  {
   "cell_type": "markdown",
   "id": "f11744787cd112c9",
   "metadata": {
    "collapsed": false
   },
   "source": [
    "## models definition"
   ]
  },
  {
   "cell_type": "code",
   "execution_count": 12,
   "id": "70cb587f4a0eb832",
   "metadata": {
    "ExecuteTime": {
     "end_time": "2024-01-12T17:39:21.223249Z",
     "start_time": "2024-01-12T17:39:21.220297Z"
    },
    "collapsed": false
   },
   "outputs": [],
   "source": [
    "def fit_kmeans(data, max_iter=300  ,n_clusters=8, n_init=10, kmeans=None):\n",
    "    \"\"\"Fit a k-means classifier to some data.\n",
    "\n",
    "    Arguments:\n",
    "        data: The vectorized data to train the classifier on.\n",
    "        n_clusters (int): The number of clusters.\n",
    "        kmeans: A k-means classifier to use. If None, a new classifier will be created.\n",
    "\n",
    "    Returns:\n",
    "        The trained k-means classifier.\n",
    "    \"\"\"\n",
    "    if kmeans is None:\n",
    "        kmeans = KMeans(n_clusters=n_clusters, n_init=n_init, max_iter=max_iter)\n",
    "    kmeans.fit(data)\n",
    "    return kmeans"
   ]
  },
  {
   "cell_type": "code",
   "execution_count": 13,
   "id": "2a06704d3a7f965c",
   "metadata": {
    "ExecuteTime": {
     "end_time": "2024-01-12T17:39:21.225914Z",
     "start_time": "2024-01-12T17:39:21.221648Z"
    },
    "collapsed": false
   },
   "outputs": [],
   "source": [
    "def fit_random_forest(data, labels, n_estimators=100, max_depth=None, rf=None):\n",
    "    \"\"\"Fit a random forest classifier to some data.\n",
    "\n",
    "    Arguments:\n",
    "        data: The vectorized data to train the classifier on.\n",
    "        labels: The gold-standard labels.\n",
    "        n_estimators (int): The number of trees in the forest.\n",
    "        rf: A random forest classifier to use. If None, a new classifier will be created.\n",
    "\n",
    "    Returns:\n",
    "        The trained random forest classifier.\n",
    "    \"\"\"\n",
    "    if rf is None:\n",
    "        rf = RandomForestClassifier(n_estimators=n_estimators, max_depth=max_depth)\n",
    "    rf.fit(data, labels)\n",
    "    return rf"
   ]
  },
  {
   "cell_type": "code",
   "execution_count": 14,
   "id": "5375b0d423b87242",
   "metadata": {
    "ExecuteTime": {
     "end_time": "2024-01-12T17:39:21.229724Z",
     "start_time": "2024-01-12T17:39:21.228066Z"
    },
    "collapsed": false
   },
   "outputs": [],
   "source": [
    "def fit_knn(data, labels, n_neighbors=5, weights='uniform', knn=None):\n",
    "    \"\"\"Fit a k-nearest neighbors classifier to some data.\n",
    "\n",
    "    Arguments:\n",
    "        data: The vectorized data to train the classifier on.\n",
    "        labels: The gold-standard labels.\n",
    "        n_neighbors (int): The number of neighbors to consider.\n",
    "        knn: A k-nearest neighbors classifier to use. If None, a new classifier will be created.\n",
    "\n",
    "    Returns:\n",
    "        The trained k-nearest neighbors classifier.\n",
    "    \"\"\"\n",
    "    if knn is None:\n",
    "        knn = KNeighborsClassifier(n_neighbors=n_neighbors, weights=weights)\n",
    "    knn.fit(data, labels)\n",
    "    return knn"
   ]
  },
  {
   "cell_type": "markdown",
   "id": "7eb591123cbe4bfa",
   "metadata": {
    "collapsed": false
   },
   "source": [
    "## choose the best parameters for each model"
   ]
  },
  {
   "cell_type": "code",
   "execution_count": null,
   "id": "c1a0dcbd6a95d21a",
   "metadata": {
    "ExecuteTime": {
     "end_time": "2024-01-12T17:39:21.239163Z",
     "start_time": "2024-01-12T17:39:21.236792Z"
    },
    "collapsed": false
   },
   "outputs": [],
   "source": [
    "if exists('best_params.json'):\n",
    "    best_params = load(open('best_params.json'))\n",
    "else:\n",
    "    best_params = {}"
   ]
  },
  {
   "cell_type": "code",
   "execution_count": null,
   "id": "8cc0d88af341c26c",
   "metadata": {
    "ExecuteTime": {
     "end_time": "2024-01-12T17:39:21.254185Z",
     "start_time": "2024-01-12T17:39:21.245469Z"
    },
    "collapsed": false
   },
   "outputs": [],
   "source": [
    "# kmeans\n",
    "if 'kmeans' not in best_params:\n",
    "    best_params['kmeans'] = {}\n",
    "    \n",
    "kmeans = KMeans()\n",
    "grid = {'n_clusters': [3, 5, 10], 'n_init': [1, 5, 10], 'max_iter': [100, 200, 300]}\n",
    "\n",
    "#initial df\n",
    "if 'initial df' not in best_params['kmeans']:\n",
    "    kmeans_grid_init = GridSearchCV(kmeans, grid, cv=5, scoring='rand_score', verbose=2)\n",
    "    kmeans_grid_init.fit(vectorizer_initial_df)\n",
    "    print(kmeans_grid_init.cv_results_)\n",
    "    best_params['kmeans']['initial df'] = kmeans_grid_init.best_params_\n",
    "    dump(best_params, open('best_params.json', 'w'))\n",
    "\n",
    "#balanced df\n",
    "if 'balanced df' not in best_params['kmeans']:\n",
    "    temp_df = sparse.vstack(vectorizer_balanced_df)\n",
    "    kmeans_grid_balanced = GridSearchCV(kmeans, grid, cv=5, scoring='rand_score', verbose=2)\n",
    "    kmeans_grid_balanced.fit(temp_df)\n",
    "    print(kmeans_grid_balanced.cv_results_)\n",
    "    best_params['kmeans']['balanced df'] = kmeans_grid_balanced.best_params_\n",
    "    dump(best_params, open('best_params.json', 'w'))\n",
    "\n",
    "#new categories df\n",
    "if 'new categories df' not in best_params['kmeans']:\n",
    "    kmeans_grid_new_categories = GridSearchCV(kmeans, grid, cv=5, scoring='rand_score', verbose=2)\n",
    "    kmeans_grid_new_categories.fit(vectorizer_new_categories_df)\n",
    "    print(kmeans_grid_new_categories.cv_results_)\n",
    "    best_params['kmeans']['new categories df'] = kmeans_grid_new_categories.best_params_\n",
    "    dump(best_params, open('best_params.json', 'w'))\n",
    "    \n",
    "#balanced new categories df\n",
    "if 'balanced new categories df' not in best_params['kmeans']:\n",
    "    temp_df = sparse.vstack(vectorizer_balanced_new_categories_df)\n",
    "    kmeans_grid_balanced_new_categories = GridSearchCV(kmeans, grid, cv=5, scoring='rand_score', verbose=2)\n",
    "    kmeans_grid_balanced_new_categories.fit(temp_df)\n",
    "    print(kmeans_grid_balanced_new_categories.cv_results_)\n",
    "    best_params['kmeans']['balanced new categories df'] = kmeans_grid_balanced_new_categories.best_params_\n",
    "    dump(best_params, open('best_params.json', 'w'))"
   ]
  },
  {
   "cell_type": "code",
   "execution_count": null,
   "id": "b7d29eeced52cecf",
   "metadata": {
    "ExecuteTime": {
     "end_time": "2024-01-12T17:39:21.254495Z",
     "start_time": "2024-01-12T17:39:21.250595Z"
    },
    "collapsed": false
   },
   "outputs": [],
   "source": [
    "# random forest\n",
    "if 'random forest' not in best_params:\n",
    "    best_params['random forest'] = {}\n",
    "\n",
    "rf = RandomForestClassifier()\n",
    "grid = {'n_estimators': [100, 200], 'max_depth': [None, 20]}\n",
    "\n",
    "#initial df\n",
    "if 'initial df' not in best_params['random forest']:\n",
    "    rf_grid_init = GridSearchCV(rf, grid, cv=3, scoring='rand_score', verbose=2)\n",
    "    rf_grid_init.fit(vectorizer_initial_df, train_df['Genre'])\n",
    "    print(rf_grid_init.cv_results_)\n",
    "    best_params['random forest']['initial df'] = rf_grid_init.best_params_\n",
    "    dump(best_params, open('best_params.json', 'w'))\n",
    "    \n",
    "#balanced df\n",
    "if 'balanced df' not in best_params['random forest']:\n",
    "    temp_df = sparse.vstack(vectorizer_balanced_df)\n",
    "    labels_temp = list(itertools.chain.from_iterable(labels))\n",
    "    rf_grid_balanced = GridSearchCV(rf, grid, cv=3, scoring='rand_score', verbose=2)\n",
    "    rf_grid_balanced.fit(temp_df, labels_temp)\n",
    "    print(rf_grid_balanced.cv_results_)\n",
    "    best_params['random forest']['balanced df'] = rf_grid_balanced.best_params_\n",
    "    dump(best_params, open('best_params.json', 'w'))\n",
    "    \n",
    "#new categories df\n",
    "if 'new categories df' not in best_params['random forest']:\n",
    "    rf_grid_new_categories = GridSearchCV(rf, grid, cv=3, scoring='rand_score', verbose=2)\n",
    "    rf_grid_new_categories.fit(vectorizer_new_categories_df, train_df_new_categories['Genre'])\n",
    "    print(rf_grid_new_categories.cv_results_)\n",
    "    best_params['random forest']['new categories df'] = rf_grid_new_categories.best_params_\n",
    "    dump(best_params, open('best_params.json', 'w'))\n",
    "     \n",
    "#balanced new categories df\n",
    "if 'balanced new categories df' not in best_params['random forest']:\n",
    "    temp_df = sparse.vstack(vectorizer_balanced_new_categories_df)\n",
    "    labels_temp = list(itertools.chain.from_iterable(labels_new_categories))\n",
    "    rf_grid_balanced_new_categories = GridSearchCV(rf, grid, cv=3, scoring='rand_score', verbose=2)\n",
    "    rf_grid_balanced_new_categories.fit(temp_df, labels_temp)\n",
    "    print(rf_grid_balanced_new_categories.cv_results_)\n",
    "    best_params['random forest']['balanced new categories df'] = rf_grid_balanced_new_categories.best_params_\n",
    "    dump(best_params, open('best_params.json', 'w'))"
   ]
  },
  {
   "cell_type": "code",
   "execution_count": null,
   "id": "c01973f9089ea249",
   "metadata": {
    "ExecuteTime": {
     "start_time": "2024-01-12T17:39:21.255869Z"
    },
    "collapsed": false,
    "is_executing": true
   },
   "outputs": [
    {
     "name": "stdout",
     "output_type": "stream",
     "text": [
      "Fitting 3 folds for each of 6 candidates, totalling 18 fits\n"
     ]
    }
   ],
   "source": [
    "#knn\n",
    "if 'knn' not in best_params:\n",
    "    best_params['knn'] = {}\n",
    "\n",
    "knn = KNeighborsClassifier()\n",
    "grid = {'n_neighbors': [3, 5, 10], 'weights': ['uniform', 'distance']}\n",
    "\n",
    "#initial df\n",
    "if 'initial df' not in best_params['knn']:\n",
    "    knn_grid_init = GridSearchCV(knn, grid, cv=3, scoring='rand_score', verbose=2)\n",
    "    knn_grid_init.fit(vectorizer_initial_df, train_df['Genre'])\n",
    "    print(knn_grid_init.cv_results_)\n",
    "    best_params['knn']['initial df'] = knn_grid_init.best_params_\n",
    "    dump(best_params, open('best_params.json', 'w'))\n",
    "    \n",
    "#balanced df\n",
    "# if 'balanced df' not in best_params['knn']: #this takes too long\n",
    "#     temp_df = sparse.vstack(vectorizer_balanced_df)\n",
    "#     labels_temp = list(itertools.chain.from_iterable(labels))\n",
    "#     knn_grid_balanced = GridSearchCV(knn, grid, cv=3, scoring='rand_score', verbose=2)\n",
    "#     knn_grid_balanced.fit(temp_df, labels_temp)\n",
    "#     print(knn_grid_balanced.cv_results_)\n",
    "#     best_params['knn']['balanced df'] = knn_grid_balanced.best_params_\n",
    "#     dump(best_params, open('best_params.json', 'w'))\n",
    "    \n",
    "#new categories df\n",
    "if 'new categories df' not in best_params['knn']:\n",
    "    knn_grid_new_categories = GridSearchCV(knn, grid, cv=3, scoring='rand_score', verbose=2)\n",
    "    knn_grid_new_categories.fit(vectorizer_new_categories_df, train_df_new_categories['Genre'])\n",
    "    print(knn_grid_new_categories.cv_results_)\n",
    "    best_params['knn']['new categories df'] = knn_grid_new_categories.best_params_\n",
    "    dump(best_params, open('best_params.json', 'w'))\n",
    "    \n",
    "#balanced new categories df\n",
    "# if 'balanced new categories df' not in best_params['knn']: #this takes too long\n",
    "#     temp_df = sparse.vstack(vectorizer_balanced_new_categories_df)\n",
    "#     labels_temp = list(itertools.chain.from_iterable(labels_new_categories))\n",
    "#     knn_grid_balanced_new_categories = GridSearchCV(knn, grid, cv=3, scoring='rand_score', verbose=2)\n",
    "#     knn_grid_balanced_new_categories.fit(temp_df, labels_temp)\n",
    "#     print(knn_grid_balanced_new_categories.cv_results_)\n",
    "#     best_params['knn']['balanced new categories df'] = knn_grid_balanced_new_categories.best_params_\n",
    "#     dump(best_params, open('best_params.json', 'w'))"
   ]
  },
  {
   "cell_type": "markdown",
   "id": "62302831bc9efb00",
   "metadata": {
    "collapsed": false
   },
   "source": [
    "## models selection\n",
    "we use cross validation to select the best model"
   ]
  },
  {
   "cell_type": "code",
   "execution_count": 15,
   "id": "941d6abc718e592a",
   "metadata": {
    "ExecuteTime": {
     "end_time": "2024-01-11T15:53:12.174781Z",
     "start_time": "2024-01-11T15:53:12.158823Z"
    },
    "collapsed": false
   },
   "outputs": [],
   "source": [
    "#load json file with cross validation results\n",
    "if exists('cross_validation_results.json') :\n",
    "    cross_validation_results = load(open('cross_validation_results.json'))\n",
    "else:\n",
    "    cross_validation_results = {}"
   ]
  },
  {
   "cell_type": "code",
   "execution_count": 16,
   "id": "9b486dccbcc9a3b9",
   "metadata": {
    "ExecuteTime": {
     "end_time": "2024-01-11T15:53:12.175387Z",
     "start_time": "2024-01-11T15:53:12.161931Z"
    },
    "collapsed": false
   },
   "outputs": [],
   "source": [
    "if exists('best_params.json'):\n",
    "    best_params = load(open('best_params.json'))\n",
    "    # add default parameters for the grid search that took too long\n",
    "    if 'kmeans' not in best_params:\n",
    "         best_params['kmeans'] = {'initial df': {'n_clusters': 3, 'n_init': 1, 'max_iter': 100},\n",
    "                             'balanced df': {'n_clusters': 3, 'n_init': 1, 'max_iter': 100},\n",
    "                             'new categories df': {'n_clusters': 3, 'n_init': 1, 'max_iter': 100},\n",
    "                             'balanced new categories df': {'n_clusters': 3, 'n_init': 1, 'max_iter': 100}}\n",
    "    if 'random forest' not in best_params:\n",
    "        best_params['random forest'] = {'initial df': {'n_estimators': 100, 'max_depth': None},\n",
    "                                    'balanced df': {'n_estimators': 100, 'max_depth': None},\n",
    "                                    'new categories df': {'n_estimators': 100, 'max_depth': None},\n",
    "                                    'balanced new categories df': {'n_estimators': 100, 'max_depth': None}}\n",
    "    if 'knn' not in best_params:\n",
    "        best_params['knn'] = {'initial df': {'n_neighbors': 3, 'weights': 'uniform'},\n",
    "                            'balanced df': {'n_neighbors': 3, 'weights': 'uniform'},\n",
    "                            'new categories df': {'n_neighbors': 3, 'weights': 'uniform'},\n",
    "                            'balanced new categories df': {'n_neighbors': 3, 'weights': 'uniform'}}\n",
    "    if 'initial df' not in best_params['kmeans']:\n",
    "        best_params['kmeans']['initial df'] = {'n_clusters': 3, 'n_init': 1, 'max_iter': 100}\n",
    "    if 'balanced df' not in best_params['kmeans']:\n",
    "        best_params['kmeans']['balanced df'] = {'n_clusters': 3, 'n_init': 1, 'max_iter': 100}\n",
    "    if 'new categories df' not in best_params['kmeans']:\n",
    "        best_params['kmeans']['new categories df'] = {'n_clusters': 3, 'n_init': 1, 'max_iter': 100}\n",
    "    if 'balanced new categories df' not in best_params['kmeans']:\n",
    "        best_params['kmeans']['balanced new categories df'] = {'n_clusters': 3, 'n_init': 1, 'max_iter': 100}\n",
    "    if 'initial df' not in best_params['random forest']:\n",
    "        best_params['random forest']['initial df'] = {'n_estimators': 100, 'max_depth': None}\n",
    "    if 'balanced df' not in best_params['random forest']:\n",
    "        best_params['random forest']['balanced df'] = {'n_estimators': 100, 'max_depth': None}\n",
    "    if 'new categories df' not in best_params['random forest']:\n",
    "        best_params['random forest']['new categories df'] = {'n_estimators': 100, 'max_depth': None}\n",
    "    if 'balanced new categories df' not in best_params['random forest']:\n",
    "        best_params['random forest']['balanced new categories df'] = {'n_estimators': 100, 'max_depth': None}\n",
    "    if 'initial df' not in best_params['knn']:\n",
    "        best_params['knn']['initial df'] = {'n_neighbors': 3, 'weights': 'uniform'}\n",
    "    if 'balanced df' not in best_params['knn']:\n",
    "        best_params['knn']['balanced df'] = {'n_neighbors': 3, 'weights': 'uniform'}\n",
    "    if 'new categories df' not in best_params['knn']:\n",
    "        best_params['knn']['new categories df'] = {'n_neighbors': 3, 'weights': 'uniform'}\n",
    "    if 'balanced new categories df' not in best_params['knn']:\n",
    "        best_params['knn']['balanced new categories df'] = {'n_neighbors': 3, 'weights': 'uniform'}\n",
    "else:\n",
    "    best_params = {}\n",
    "    # add default parameters\n",
    "    best_params['kmeans'] = {'initial df': {'n_clusters': 3, 'n_init': 1, 'max_iter': 100},\n",
    "                             'balanced df': {'n_clusters': 3, 'n_init': 1, 'max_iter': 100},\n",
    "                             'new categories df': {'n_clusters': 3, 'n_init': 1, 'max_iter': 100},\n",
    "                             'balanced new categories df': {'n_clusters': 3, 'n_init': 1, 'max_iter': 100}}\n",
    "    best_params['random forest'] = {'initial df': {'n_estimators': 100, 'max_depth': None},\n",
    "                                    'balanced df': {'n_estimators': 100, 'max_depth': None},\n",
    "                                    'new categories df': {'n_estimators': 100, 'max_depth': None},\n",
    "                                    'balanced new categories df': {'n_estimators': 100, 'max_depth': None}}\n",
    "    best_params['knn'] = {'initial df': {'n_neighbors': 3, 'weights': 'uniform'},\n",
    "                            'balanced df': {'n_neighbors': 3, 'weights': 'uniform'},\n",
    "                            'new categories df': {'n_neighbors': 3, 'weights': 'uniform'},\n",
    "                            'balanced new categories df': {'n_neighbors': 3, 'weights': 'uniform'}}"
   ]
  },
  {
   "cell_type": "code",
   "execution_count": 17,
   "id": "da628918d1852250",
   "metadata": {
    "ExecuteTime": {
     "end_time": "2024-01-11T15:53:12.265325Z",
     "start_time": "2024-01-11T15:53:12.170410Z"
    },
    "collapsed": false
   },
   "outputs": [],
   "source": [
    "# create kfold object\n",
    "kf = KFold(n_splits=10, shuffle=True)"
   ]
  },
  {
   "cell_type": "code",
   "execution_count": 18,
   "id": "e4dd9f6cf80f45c3",
   "metadata": {
    "ExecuteTime": {
     "end_time": "2024-01-11T18:11:35.031883Z",
     "start_time": "2024-01-11T15:53:12.268270Z"
    },
    "collapsed": false
   },
   "outputs": [
    {
     "name": "stdout",
     "output_type": "stream",
     "text": [
      "TRAIN: [    1     2     3 ... 54211 54212 54213] TEST: [    0    18    19 ... 54184 54198 54199]\n",
      "kmeans done\n",
      "rf done\n",
      "TRAIN: [    0     1     3 ... 54211 54212 54213] TEST: [    2     5    13 ... 54203 54204 54209]\n",
      "kmeans done\n",
      "rf done\n",
      "TRAIN: [    0     1     2 ... 54211 54212 54213] TEST: [   10    11    14 ... 54193 54194 54202]\n",
      "kmeans done\n",
      "rf done\n",
      "TRAIN: [    0     1     2 ... 54211 54212 54213] TEST: [    4    12    41 ... 54148 54163 54190]\n",
      "kmeans done\n",
      "rf done\n",
      "TRAIN: [    0     1     2 ... 54210 54212 54213] TEST: [    3    31    60 ... 54156 54191 54211]\n",
      "kmeans done\n",
      "rf done\n",
      "TRAIN: [    0     1     2 ... 54211 54212 54213] TEST: [    6     8    15 ... 54176 54200 54207]\n",
      "kmeans done\n",
      "rf done\n",
      "TRAIN: [    0     1     2 ... 54211 54212 54213] TEST: [    7    16    22 ... 54188 54205 54210]\n",
      "kmeans done\n",
      "rf done\n",
      "TRAIN: [    0     1     2 ... 54210 54211 54212] TEST: [   20    27    29 ... 54185 54201 54213]\n",
      "kmeans done\n",
      "rf done\n",
      "TRAIN: [    0     2     3 ... 54210 54211 54213] TEST: [    1    28    42 ... 54195 54197 54212]\n",
      "kmeans done\n",
      "rf done\n",
      "TRAIN: [    0     1     2 ... 54211 54212 54213] TEST: [    9    21    23 ... 54192 54206 54208]\n",
      "kmeans done\n",
      "rf done\n"
     ]
    }
   ],
   "source": [
    "#cross validation on the initial dataset\n",
    "scores_kmeans = []\n",
    "rand_scores_rf = []\n",
    "F1_scores_rf = []\n",
    "rand_scores_knn = []\n",
    "F1_scores_knn = []\n",
    "\n",
    "if 'initial df' not in cross_validation_results:\n",
    "    cross_validation_results['initial df'] = {}\n",
    "    \n",
    "for train_index, test_index in kf.split(vectorizer_initial_df):\n",
    "    print(\"TRAIN:\", train_index, \"TEST:\", test_index)\n",
    "    \n",
    "    #split data\n",
    "    X_train, X_test = vectorizer_initial_df[train_index], vectorizer_initial_df[test_index]\n",
    "    y_train, y_test = train_df['Genre'][train_index], train_df['Genre'][test_index]\n",
    "    \n",
    "    #fit and evaluate the models\n",
    "    if 'rand_kmeans' not in cross_validation_results['initial df']:\n",
    "        kmeans = fit_kmeans(X_train, **best_params['kmeans']['initial df'])\n",
    "        scores_kmeans.append(rand_score(y_test, kmeans.predict(X_test)))\n",
    "    print('kmeans done')\n",
    "    \n",
    "    if 'rand_rf' not in cross_validation_results['initial df']:\n",
    "        rf = fit_random_forest(X_train, y_train, **best_params['random forest']['initial df'])\n",
    "        rand_scores_rf.append(rand_score(y_test, rf.predict(X_test)))\n",
    "        F1_scores_rf.append(f1_score(y_test, rf.predict(X_test), average='weighted'))\n",
    "    print('rf done')\n",
    "    \n",
    "    if 'rand_knn' not in cross_validation_results['initial df']:\n",
    "        knn = fit_knn(X_train, y_train, **best_params['knn']['initial df'])\n",
    "        rand_scores_knn.append(rand_score(y_test, knn.predict(X_test)))\n",
    "        F1_scores_knn.append(f1_score(y_test, knn.predict(X_test), average='weighted'))\n",
    "\n",
    "if scores_kmeans!=[]: cross_validation_results['initial df']['rand_kmeans'] = scores_kmeans\n",
    "if rand_scores_rf!=[]: cross_validation_results['initial df']['rand_rf'] = rand_scores_rf\n",
    "if F1_scores_rf!=[]: cross_validation_results['initial df']['F1_rf'] = F1_scores_rf\n",
    "if rand_scores_knn!=[]: cross_validation_results['initial df']['rand_knn'] = rand_scores_knn\n",
    "if F1_scores_knn!=[]: cross_validation_results['initial df']['F1_knn'] = F1_scores_knn\n",
    "dump(cross_validation_results, open('cross_validation_results.json', 'w'))"
   ]
  },
  {
   "cell_type": "code",
   "execution_count": null,
   "id": "a58c93fed8696b97",
   "metadata": {
    "ExecuteTime": {
     "end_time": "2024-01-11T18:52:33.276212Z",
     "start_time": "2024-01-11T18:11:35.008878Z"
    },
    "collapsed": false
   },
   "outputs": [
    {
     "name": "stdout",
     "output_type": "stream",
     "text": [
      "0\n",
      "kmeans done\n",
      "rf done\n",
      "1\n",
      "kmeans done\n",
      "rf done\n",
      "2\n",
      "kmeans done\n",
      "rf done\n",
      "3\n",
      "kmeans done\n",
      "rf done\n",
      "4\n",
      "kmeans done\n",
      "rf done\n",
      "5\n",
      "kmeans done\n"
     ]
    }
   ],
   "source": [
    "#cross validation on the balanced datasets\n",
    "scores_kmeans_balanced = []\n",
    "rand_scores_rf_balanced = []\n",
    "F1_scores_rf_balanced = []\n",
    "rand_scores_knn_balanced = []\n",
    "F1_scores_knn_balanced = []\n",
    "\n",
    "if 'balanced df' not in cross_validation_results:\n",
    "    cross_validation_results['balanced df'] = {}\n",
    "        \n",
    "for i in range(n_datasets):\n",
    "    print(i)\n",
    "    # the ith dataset is used as test set and the rest as training set\n",
    "    X_test = vectorizer_balanced_df[i]\n",
    "    X_train = sparse.vstack(vectorizer_balanced_df[:i] + vectorizer_balanced_df[i+1:])\n",
    "    y_test = balanced_datasets[i]['Genre']\n",
    "    y_train = labels[:i] + labels[i+1:]\n",
    "    y_train = list(itertools.chain.from_iterable(y_train))\n",
    "    \n",
    "    #fit and evaluate the models\n",
    "    if 'rand_kmeans' not in cross_validation_results['balanced df']:\n",
    "        kmeans = fit_kmeans(X_train, **best_params['kmeans']['balanced df'])\n",
    "        scores_kmeans_balanced.append(rand_score(y_test, kmeans.predict(X_test)))\n",
    "    print('kmeans done')\n",
    "        \n",
    "    if 'rand_rf' not in cross_validation_results['balanced df']:\n",
    "        rf = fit_random_forest(X_train, y_train, **best_params['random forest']['balanced df'])\n",
    "        rand_scores_rf_balanced.append(rand_score(y_test, rf.predict(X_test)))\n",
    "        F1_scores_rf_balanced.append(f1_score(y_test, rf.predict(X_test), average='weighted'))\n",
    "    print('rf done')\n",
    "    \n",
    "    # if 'rand_knn' not in cross_validation_results['balanced df']: #this takes too long\n",
    "    #     knn = fit_knn(X_train, y_train, **best_params['knn']['balanced df'])\n",
    "    #     rand_scores_knn_balanced.append(rand_score(y_test, knn.predict(X_test)))\n",
    "    #     F1_scores_knn_balanced.append(f1_score(y_test, knn.predict(X_test), average='weighted'))\n",
    "    \n",
    "        \n",
    "if scores_kmeans_balanced!=[]: cross_validation_results['balanced df']['rand_kmeans'] = scores_kmeans_balanced\n",
    "if rand_scores_rf_balanced!=[]:cross_validation_results['balanced df']['rand_rf'] = rand_scores_rf_balanced\n",
    "if F1_scores_rf_balanced!=[]:cross_validation_results['balanced df']['F1_rf'] = F1_scores_rf_balanced\n",
    "if rand_scores_knn_balanced!=[]:cross_validation_results['balanced df']['rand_knn'] = rand_scores_knn_balanced\n",
    "if F1_scores_knn_balanced!=[]:cross_validation_results['balanced df']['F1_knn'] = F1_scores_knn_balanced    \n",
    "dump(cross_validation_results, open('cross_validation_results.json', 'w'))"
   ]
  },
  {
   "cell_type": "code",
   "execution_count": null,
   "id": "25ca5eb5f08e98dc",
   "metadata": {
    "ExecuteTime": {
     "end_time": "2024-01-11T20:06:25.619756Z",
     "start_time": "2024-01-11T18:52:33.301906Z"
    },
    "collapsed": false
   },
   "outputs": [],
   "source": [
    "#cross validation on the dataset with new categories\n",
    "scores_kmeans_new_categories = []\n",
    "rand_scores_rf_new_categories = []\n",
    "F1_scores_rf_new_categories = []\n",
    "rand_scores_knn_new_categories = []\n",
    "F1_scores_knn_new_categories = []\n",
    "\n",
    "if 'new categories df' not in cross_validation_results:\n",
    "    cross_validation_results['new categories df'] = {}\n",
    "        \n",
    "for train_index, test_index in kf.split(vectorizer_new_categories_df):\n",
    "    print(\"TRAIN:\", train_index, \"TEST:\", test_index)\n",
    "    #split data\n",
    "    X_train, X_test = vectorizer_new_categories_df[train_index], vectorizer_new_categories_df[test_index]\n",
    "    y_train, y_test = train_df_new_categories['Genre'][train_index], train_df_new_categories['Genre'][test_index]\n",
    "    \n",
    "    #fit and evaluate the models\n",
    "    if 'rand_kmeans' not in cross_validation_results['new categories df']:\n",
    "        kmeans = fit_kmeans(X_train, **best_params['kmeans']['new categories df'])\n",
    "        scores_kmeans_new_categories.append(rand_score(y_test, kmeans.predict(X_test)))\n",
    "    print('kmeans done')\n",
    "        \n",
    "    if 'rand_rf' not in cross_validation_results['new categories df']:\n",
    "        rf = fit_random_forest(X_train, y_train, **best_params['random forest']['new categories df'])\n",
    "        rand_scores_rf_new_categories.append(rand_score(y_test, rf.predict(X_test)))\n",
    "        F1_scores_rf_new_categories.append(f1_score(y_test, rf.predict(X_test), average='weighted'))\n",
    "    print('rf done')\n",
    "    \n",
    "    if 'rand_knn' not in cross_validation_results['new categories df']:\n",
    "        knn = fit_knn(X_train, y_train, **best_params['knn']['new categories df'])\n",
    "        rand_scores_knn_new_categories.append(rand_score(y_test, knn.predict(X_test)))\n",
    "        F1_scores_knn_new_categories.append(f1_score(y_test, knn.predict(X_test), average='weighted'))\n",
    "\n",
    "if scores_kmeans_new_categories!=[]: cross_validation_results['new categories df']['rand_kmeans'] = scores_kmeans_new_categories\n",
    "if rand_scores_rf_new_categories!=[]:cross_validation_results['new categories df']['rand_rf'] = rand_scores_rf_new_categories\n",
    "if F1_scores_rf_new_categories!=[]:cross_validation_results['new categories df']['F1_rf'] = F1_scores_rf_new_categories\n",
    "if rand_scores_knn_new_categories!=[]:cross_validation_results['new categories df']['rand_knn'] = rand_scores_knn_new_categories\n",
    "if F1_scores_knn_new_categories!=[]:cross_validation_results['new categories df']['F1_knn'] = F1_scores_knn_new_categories\n",
    "dump(cross_validation_results, open('cross_validation_results.json', 'w'))"
   ]
  },
  {
   "cell_type": "code",
   "execution_count": 20,
   "id": "25ca5eb5f08e98dc",
   "metadata": {
    "ExecuteTime": {
     "end_time": "2024-01-11T20:06:25.619756Z",
     "start_time": "2024-01-11T18:52:33.301906Z"
    },
    "collapsed": false
   },
   "outputs": [],
   "source": [
    "#cross validation on the balanced datasets with new categories\n",
    "scores_kmeans_balanced_new_categories = []\n",
    "rand_scores_rf_balanced_new_categories = []\n",
    "F1_scores_rf_balanced_new_categories = []\n",
    "rand_scores_knn_balanced_new_categories = []\n",
    "F1_scores_knn_balanced_new_categories = []\n",
    "\n",
    "if 'balanced new categories df' not in cross_validation_results:\n",
    "    cross_validation_results['balanced new categories df'] = {}\n",
    "        \n",
    "for i in range(n_datasets_new_categories):\n",
    "    print(i)\n",
    "    # the ith dataset is used as test set and the rest as training set\n",
    "    X_test = vectorizer_balanced_new_categories_df[i]\n",
    "    X_train = sparse.vstack(vectorizer_balanced_new_categories_df[:i] + vectorizer_balanced_new_categories_df[i+1:])\n",
    "    y_test = balanced_datasets_new_categories[i]['Genre']\n",
    "    y_train = labels_new_categories[:i] + labels_new_categories[i+1:]\n",
    "    y_train = list(itertools.chain.from_iterable(y_train))\n",
    "    \n",
    "    #fit and evaluate the models\n",
    "    if 'rand_kmeans' not in cross_validation_results['balanced new categories df']:\n",
    "        kmeans = fit_kmeans(X_train)\n",
    "        scores_kmeans_balanced_new_categories.append(rand_score(y_test, kmeans.predict(X_test)))\n",
    "    print('kmeans done')\n",
    "        \n",
    "    if 'rand_rf' not in cross_validation_results['balanced new categories df']:\n",
    "        rf = fit_random_forest(X_train, y_train)\n",
    "        rand_scores_rf_balanced_new_categories.append(rand_score(y_test, rf.predict(X_test)))\n",
    "        F1_scores_rf_balanced_new_categories.append(f1_score(y_test, rf.predict(X_test), average='weighted'))\n",
    "    print('rf done')\n",
    "    \n",
    "    if 'rand_knn' not in cross_validation_results['balanced new categories df']:\n",
    "        knn = fit_knn(X_train, y_train)\n",
    "        rand_scores_knn_balanced_new_categories.append(rand_score(y_test, knn.predict(X_test)))\n",
    "        F1_scores_knn_balanced_new_categories.append(f1_score(y_test, knn.predict(X_test), average='weighted'))\n",
    "        \n",
    "if scores_kmeans_balanced_new_categories!=[]: cross_validation_results['balanced new categories df']['rand_kmeans'] = scores_kmeans_balanced_new_categories\n",
    "if rand_scores_rf_balanced_new_categories!=[]:cross_validation_results['balanced new categories df']['rand_rf'] = rand_scores_rf_balanced_new_categories\n",
    "if F1_scores_rf_balanced_new_categories!=[]:cross_validation_results['balanced new categories df']['F1_rf'] = F1_scores_rf_balanced_new_categories\n",
    "if rand_scores_knn_balanced_new_categories!=[]:cross_validation_results['balanced new categories df']['rand_knn'] = rand_scores_knn_balanced_new_categories\n",
    "if F1_scores_knn_balanced_new_categories!=[]:cross_validation_results['balanced new categories df']['F1_knn'] = F1_scores_knn_balanced_new_categories\n",
    "dump(cross_validation_results, open('cross_validation_results.json', 'w'))"
   ]
  },
  {
   "cell_type": "code",
   "execution_count": 21,
   "id": "eac5b7a1d8be27f8",
   "metadata": {
    "ExecuteTime": {
     "end_time": "2024-01-11T20:14:29.989743Z",
     "start_time": "2024-01-11T20:14:29.980706Z"
    },
    "collapsed": false
   },
   "outputs": [
    {
     "name": "stdout",
     "output_type": "stream",
     "text": [
      "initial df\n",
      "kmeans\n",
      "0.582067228283509\n",
      "rf\n",
      "0.6432257535490945\n",
      "0.3956825211682169\n",
      "balanced df\n",
      "kmeans\n",
      "0.5453899941424443\n",
      "rf\n",
      "0.9971059383543697\n",
      "0.9784801606279598\n",
      "new categories df\n",
      "kmeans\n",
      "0.5856012321927677\n",
      "rf\n",
      "0.6516412403840457\n",
      "0.43284528428696706\n",
      "balanced new categories df\n",
      "kmeans\n",
      "0.5562900064290306\n",
      "rf\n",
      "0.9886388160378802\n",
      "0.9564530564578752\n"
     ]
    }
   ],
   "source": [
    "# print the results of the cross validation as a table\n",
    "cross_validation_results = load(open('cross_validation_results.json'))\n",
    "\n",
    "print('initial df')\n",
    "print('kmeans')\n",
    "print(np.mean(cross_validation_results['initial df']['rand_kmeans']))\n",
    "print('rf')\n",
    "print(np.mean(cross_validation_results['initial df']['rand_rf']))\n",
    "print(np.mean(cross_validation_results['initial df']['F1_rf']))\n",
    "print('knn')\n",
    "print(np.mean(cross_validation_results['initial df']['rand_knn']))\n",
    "print(np.mean(cross_validation_results['initial df']['F1_knn']))\n",
    "\n",
    "print('balanced df')\n",
    "print('kmeans')\n",
    "print(np.mean(cross_validation_results['balanced df']['rand_kmeans']))\n",
    "print('rf')\n",
    "print(np.mean(cross_validation_results['balanced df']['rand_rf']))\n",
    "print(np.mean(cross_validation_results['balanced df']['F1_rf']))\n",
    "print('knn')\n",
    "print(np.mean(cross_validation_results['balanced df']['rand_knn']))\n",
    "print(np.mean(cross_validation_results['balanced df']['F1_knn']))\n",
    "\n",
    "print('new categories df')\n",
    "print('kmeans')\n",
    "print(np.mean(cross_validation_results['new categories df']['rand_kmeans']))\n",
    "print('rf')\n",
    "print(np.mean(cross_validation_results['new categories df']['rand_rf']))\n",
    "print(np.mean(cross_validation_results['new categories df']['F1_rf']))\n",
    "print('knn')\n",
    "print(np.mean(cross_validation_results['new categories df']['rand_knn']))\n",
    "print(np.mean(cross_validation_results['new categories df']['F1_knn']))\n",
    "\n",
    "print('balanced new categories df')\n",
    "print('kmeans')\n",
    "print(np.mean(cross_validation_results['balanced new categories df']['rand_kmeans']))\n",
    "print('rf')\n",
    "print(np.mean(cross_validation_results['balanced new categories df']['rand_rf']))\n",
    "print(np.mean(cross_validation_results['balanced new categories df']['F1_rf']))\n",
    "print('knn')\n",
    "print(np.mean(cross_validation_results['balanced new categories df']['rand_knn']))\n",
    "print(np.mean(cross_validation_results['balanced new categories df']['F1_knn']))\n"
   ]
  },
  {
   "cell_type": "markdown",
   "id": "bfa51e9225e94892",
   "metadata": {
    "collapsed": false
   },
   "source": [
    "# Test"
   ]
  },
  {
   "cell_type": "code",
   "execution_count": 22,
   "id": "9d93f2d99d93790c",
   "metadata": {
    "ExecuteTime": {
     "end_time": "2024-01-09T17:19:45.969085Z",
     "start_time": "2024-01-09T17:19:45.709358Z"
    },
    "collapsed": false
   },
   "outputs": [],
   "source": [
    "#fit the best models on the dataset that gave the best results\n",
    "kmeans = fit_kmeans(vectorizer_new_categories_df)"
   ]
  },
  {
   "cell_type": "code",
   "execution_count": 22,
   "id": "76087c7e333b87d0",
   "metadata": {
    "ExecuteTime": {
     "end_time": "2024-01-09T17:19:45.974711Z",
     "start_time": "2024-01-09T17:19:45.969281Z"
    },
    "collapsed": false
   },
   "outputs": [],
   "source": []
  }
 ],
 "metadata": {
  "kernelspec": {
   "display_name": "Python 3",
   "language": "python",
   "name": "python3"
  },
  "language_info": {
   "codemirror_mode": {
    "name": "ipython",
    "version": 2
   },
   "file_extension": ".py",
   "mimetype": "text/x-python",
   "name": "python",
   "nbconvert_exporter": "python",
   "pygments_lexer": "ipython2",
   "version": "2.7.6"
  }
 },
 "nbformat": 4,
 "nbformat_minor": 5
}
