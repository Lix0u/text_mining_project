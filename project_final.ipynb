{
 "cells": [
  {
   "cell_type": "code",
   "execution_count": 96,
   "id": "b181e8a6920a5d07",
   "metadata": {
    "ExecuteTime": {
     "end_time": "2024-01-13T19:28:03.091620Z",
     "start_time": "2024-01-13T19:28:03.084131Z"
    },
    "collapsed": false
   },
   "outputs": [],
   "source": [
    "import numpy as np\n",
    "import pandas as pd\n",
    "from sklearn.feature_extraction.text import TfidfVectorizer\n",
    "from sklearn.cluster import KMeans\n",
    "from sklearn.ensemble import RandomForestClassifier\n",
    "from sklearn.neural_network import MLPClassifier\n",
    "from sklearn.model_selection import KFold, GridSearchCV\n",
    "from json import dump, load\n",
    "from os.path import exists\n",
    "from sklearn.metrics import rand_score, f1_score, recall_score, confusion_matrix, roc_auc_score, precision_score\n",
    "import itertools\n",
    "from scipy import sparse\n",
    "from sklearn.neighbors import KNeighborsClassifier\n",
    "import seaborn as sns"
   ]
  },
  {
   "cell_type": "code",
   "execution_count": 95,
   "id": "initial_id",
   "metadata": {
    "ExecuteTime": {
     "end_time": "2024-01-13T19:28:03.081091Z",
     "start_time": "2024-01-13T19:28:01.266759Z"
    },
    "collapsed": true
   },
   "outputs": [],
   "source": [
    "#read in data\n",
    "train_df = pd.read_csv('Genre Classification Dataset-IMDB/train_data.txt', sep=' ::: ', names=['Title', 'Genre', 'Description'], engine='python')\n",
    "test_df = pd.read_csv('Genre Classification Dataset-IMDB/test_data.txt', sep=' ::: ', names=['Title', 'Description'], engine='python')\n",
    "test_df_solution = pd.read_csv('Genre Classification Dataset-IMDB/test_data_solution.txt', sep=' ::: ', names=['Title', 'Genre', 'Description'], engine='python')"
   ]
  },
  {
   "cell_type": "markdown",
   "id": "f0e2e6ed22a02d3b",
   "metadata": {
    "collapsed": false
   },
   "source": [
    "# Data Exploration"
   ]
  },
  {
   "cell_type": "code",
   "execution_count": 3,
   "id": "af510e3e67193ad8",
   "metadata": {
    "ExecuteTime": {
     "end_time": "2024-01-13T09:01:52.619971Z",
     "start_time": "2024-01-13T09:01:52.600270Z"
    },
    "collapsed": false
   },
   "outputs": [
    {
     "name": "stdout",
     "output_type": "stream",
     "text": [
      "54214\n"
     ]
    },
    {
     "data": {
      "text/html": [
       "<div>\n",
       "<style scoped>\n",
       "    .dataframe tbody tr th:only-of-type {\n",
       "        vertical-align: middle;\n",
       "    }\n",
       "\n",
       "    .dataframe tbody tr th {\n",
       "        vertical-align: top;\n",
       "    }\n",
       "\n",
       "    .dataframe thead th {\n",
       "        text-align: right;\n",
       "    }\n",
       "</style>\n",
       "<table border=\"1\" class=\"dataframe\">\n",
       "  <thead>\n",
       "    <tr style=\"text-align: right;\">\n",
       "      <th></th>\n",
       "      <th>Title</th>\n",
       "      <th>Genre</th>\n",
       "      <th>Description</th>\n",
       "    </tr>\n",
       "  </thead>\n",
       "  <tbody>\n",
       "    <tr>\n",
       "      <th>1</th>\n",
       "      <td>Oscar et la dame rose (2009)</td>\n",
       "      <td>drama</td>\n",
       "      <td>Listening in to a conversation between his doctor and parents, 10-year-old Oscar learns what nobody has the courage to tell him. He only has a few weeks to live. Furious, he refuses to speak to anyone except straight-talking Rose, the lady in pink he meets on the hospital stairs. As Christmas approaches, Rose uses her fantastical experiences as a professional wrestler, her imagination, wit and charm to allow Oscar to live life and love to the full, in the company of his friends Pop Corn, Einstein, Bacon and childhood sweetheart Peggy Blue.</td>\n",
       "    </tr>\n",
       "    <tr>\n",
       "      <th>2</th>\n",
       "      <td>Cupid (1997)</td>\n",
       "      <td>thriller</td>\n",
       "      <td>A brother and sister with a past incestuous relationship have a current murderous relationship. He murders the women who reject him and she murders the women who get too close to him.</td>\n",
       "    </tr>\n",
       "    <tr>\n",
       "      <th>3</th>\n",
       "      <td>Young, Wild and Wonderful (1980)</td>\n",
       "      <td>adult</td>\n",
       "      <td>As the bus empties the students for their field trip to the Museum of Natural History, little does the tour guide suspect that the students are there for more than just another tour. First, during the lecture films, the coeds drift into dreams of the most erotic fantasies one can imagine. After the films, they release the emotion of the fantasies in the most erotic and uncommon ways. One slips off to the curator's office for a little \"acquisition. \" Another finds the anthropologist to see what bones can be identified. Even the head teacher isn't immune. Soon the tour is over, but as the bus departs, everyone admits it was quite an education.</td>\n",
       "    </tr>\n",
       "    <tr>\n",
       "      <th>4</th>\n",
       "      <td>The Secret Sin (1915)</td>\n",
       "      <td>drama</td>\n",
       "      <td>To help their unemployed father make ends meet, Edith and her twin sister Grace work as seamstresses . An invalid, Grace falls prey to the temptations of Chinatown opium and becomes an addict, a condition worsened by a misguided physician who prescribes morphine to ease her pain. When their father strikes oil, the family enjoys a new prosperity and the sisters meet the eligible Jack Herron, a fellow oil prospector. To Grace's shock, Jack falls in love with Edith and in her jealousy, Grace tells Jack that Edith, not she, has a drug problem. Hinting that her sister will soon need more morphine, Grace arranges for a dinner in Chinatown with the couple. While her sister and Jack dance, Grace slips away to an opium den. Edith follows her, but ends up in the wrong den and is arrested in an ensuing drug raid. After he bails her out of jail, Edith takes an angry Jack to search for Grace and stumbles across her half-conscious body lying in the street. The truth about the sisters is revealed, and after sending Grace to a sanitarium in the country, Jack and Edith are married.</td>\n",
       "    </tr>\n",
       "    <tr>\n",
       "      <th>5</th>\n",
       "      <td>The Unrecovered (2007)</td>\n",
       "      <td>drama</td>\n",
       "      <td>The film's title refers not only to the un-recovered bodies at ground zero, but also to the state of the nation at large. Set in the hallucinatory period of time between September 11 and Halloween of 2001, The Unrecovered examines the effect of terror on the average mind, the way a state of heightened anxiety and/or alertness can cause the average person to make the sort of imaginative connections that are normally made only by artists and conspiracy theorists-both of whom figure prominently in this film. The Unrecovered explores the way in which irony, empathy, and paranoia relate to one another in the wake of 9/11.</td>\n",
       "    </tr>\n",
       "  </tbody>\n",
       "</table>\n",
       "</div>"
      ],
      "text/plain": [
       "                              Title     Genre  \\\n",
       "1      Oscar et la dame rose (2009)     drama   \n",
       "2                      Cupid (1997)  thriller   \n",
       "3  Young, Wild and Wonderful (1980)     adult   \n",
       "4             The Secret Sin (1915)     drama   \n",
       "5            The Unrecovered (2007)     drama   \n",
       "\n",
       "                                                                                                                                                                                                                                                                                                                                                                                                                                                                                                                                                                                                                                                                                                                                                                                                                                                                                                                                                                                                                                                                                                                 Description  \n",
       "1                                                                                                                                                                                                                                                                                                                                                                                                                                                                                                                                                          Listening in to a conversation between his doctor and parents, 10-year-old Oscar learns what nobody has the courage to tell him. He only has a few weeks to live. Furious, he refuses to speak to anyone except straight-talking Rose, the lady in pink he meets on the hospital stairs. As Christmas approaches, Rose uses her fantastical experiences as a professional wrestler, her imagination, wit and charm to allow Oscar to live life and love to the full, in the company of his friends Pop Corn, Einstein, Bacon and childhood sweetheart Peggy Blue.  \n",
       "2                                                                                                                                                                                                                                                                                                                                                                                                                                                                                                                                                                                                                                                                                                                                                                                                                                                                                                                                    A brother and sister with a past incestuous relationship have a current murderous relationship. He murders the women who reject him and she murders the women who get too close to him.  \n",
       "3                                                                                                                                                                                                                                                                                                                                                                                                                                                  As the bus empties the students for their field trip to the Museum of Natural History, little does the tour guide suspect that the students are there for more than just another tour. First, during the lecture films, the coeds drift into dreams of the most erotic fantasies one can imagine. After the films, they release the emotion of the fantasies in the most erotic and uncommon ways. One slips off to the curator's office for a little \"acquisition. \" Another finds the anthropologist to see what bones can be identified. Even the head teacher isn't immune. Soon the tour is over, but as the bus departs, everyone admits it was quite an education.  \n",
       "4  To help their unemployed father make ends meet, Edith and her twin sister Grace work as seamstresses . An invalid, Grace falls prey to the temptations of Chinatown opium and becomes an addict, a condition worsened by a misguided physician who prescribes morphine to ease her pain. When their father strikes oil, the family enjoys a new prosperity and the sisters meet the eligible Jack Herron, a fellow oil prospector. To Grace's shock, Jack falls in love with Edith and in her jealousy, Grace tells Jack that Edith, not she, has a drug problem. Hinting that her sister will soon need more morphine, Grace arranges for a dinner in Chinatown with the couple. While her sister and Jack dance, Grace slips away to an opium den. Edith follows her, but ends up in the wrong den and is arrested in an ensuing drug raid. After he bails her out of jail, Edith takes an angry Jack to search for Grace and stumbles across her half-conscious body lying in the street. The truth about the sisters is revealed, and after sending Grace to a sanitarium in the country, Jack and Edith are married.  \n",
       "5                                                                                                                                                                                                                                                                                                                                                                                                                                                                           The film's title refers not only to the un-recovered bodies at ground zero, but also to the state of the nation at large. Set in the hallucinatory period of time between September 11 and Halloween of 2001, The Unrecovered examines the effect of terror on the average mind, the way a state of heightened anxiety and/or alertness can cause the average person to make the sort of imaginative connections that are normally made only by artists and conspiracy theorists-both of whom figure prominently in this film. The Unrecovered explores the way in which irony, empathy, and paranoia relate to one another in the wake of 9/11.  "
      ]
     },
     "execution_count": 3,
     "metadata": {},
     "output_type": "execute_result"
    }
   ],
   "source": [
    "pd.set_option('display.max_colwidth', None)\n",
    "print(len(train_df))\n",
    "train_df.head()"
   ]
  },
  {
   "cell_type": "code",
   "execution_count": 4,
   "id": "8463dd1e9d056a40",
   "metadata": {
    "ExecuteTime": {
     "end_time": "2024-01-13T09:01:53.145507Z",
     "start_time": "2024-01-13T09:01:52.615172Z"
    },
    "collapsed": false
   },
   "outputs": [
    {
     "data": {
      "text/plain": [
       "<Axes: xlabel='Genre'>"
      ]
     },
     "execution_count": 4,
     "metadata": {},
     "output_type": "execute_result"
    },
    {
     "data": {
      "image/png": "[encoded data removed]",
      "text/plain": [
       "<Figure size 640x480 with 1 Axes>"
      ]
     },
     "metadata": {},
     "output_type": "display_data"
    }
   ],
   "source": [
    "#data distribution\n",
    "train_df['Genre'].value_counts().plot(kind='bar')"
   ]
  },
  {
   "cell_type": "code",
   "execution_count": 5,
   "id": "ba804144a5e0cd8a",
   "metadata": {
    "ExecuteTime": {
     "end_time": "2024-01-13T09:01:53.225163Z",
     "start_time": "2024-01-13T09:01:53.161854Z"
    },
    "collapsed": false
   },
   "outputs": [
    {
     "data": {
      "text/plain": [
       "Title          0\n",
       "Genre          0\n",
       "Description    0\n",
       "dtype: int64"
      ]
     },
     "execution_count": 5,
     "metadata": {},
     "output_type": "execute_result"
    }
   ],
   "source": [
    "#check for null values\n",
    "train_df.isnull().sum()"
   ]
  },
  {
   "cell_type": "code",
   "execution_count": 6,
   "id": "48b2ce7d59929c34",
   "metadata": {
    "ExecuteTime": {
     "end_time": "2024-01-13T09:01:53.226707Z",
     "start_time": "2024-01-13T09:01:53.179429Z"
    },
    "collapsed": false
   },
   "outputs": [
    {
     "data": {
      "text/plain": [
       "Title          0\n",
       "Description    0\n",
       "dtype: int64"
      ]
     },
     "execution_count": 6,
     "metadata": {},
     "output_type": "execute_result"
    }
   ],
   "source": [
    "test_df.isnull().sum()"
   ]
  },
  {
   "cell_type": "markdown",
   "id": "e7aa0e918403dd2",
   "metadata": {
    "collapsed": false
   },
   "source": [
    "# Preprocessing"
   ]
  },
  {
   "cell_type": "code",
   "execution_count": 7,
   "id": "ea5b0e1969509a92",
   "metadata": {
    "ExecuteTime": {
     "end_time": "2024-01-13T09:01:53.228812Z",
     "start_time": "2024-01-13T09:01:53.183689Z"
    },
    "collapsed": false
   },
   "outputs": [],
   "source": [
    "# the index of train_df begins at 1, we change it to start at 0\n",
    "train_df.index = train_df.index - 1"
   ]
  },
  {
   "cell_type": "code",
   "execution_count": 8,
   "id": "9fbdf62c7c7dc348",
   "metadata": {
    "ExecuteTime": {
     "end_time": "2024-01-13T09:01:53.425522Z",
     "start_time": "2024-01-13T09:01:53.190977Z"
    },
    "collapsed": false
   },
   "outputs": [
    {
     "data": {
      "image/png": "[encoded data removed]",
      "text/plain": [
       "<Figure size 640x480 with 1 Axes>"
      ]
     },
     "metadata": {},
     "output_type": "display_data"
    }
   ],
   "source": [
    "#create a new dataset the new tags\n",
    "train_df_new_categories = train_df.copy()\n",
    "#if the genre is biography or history change it to documentary\n",
    "train_df_new_categories['Genre'] = train_df_new_categories['Genre'].replace(['biography', 'history'], 'documentary')\n",
    "#if the genre is thriller change it to horror\n",
    "train_df_new_categories['Genre'] = train_df_new_categories['Genre'].replace(['thriller'], 'horror')\n",
    "#if the genre is  war change it to action\n",
    "train_df_new_categories['Genre'] = train_df_new_categories['Genre'].replace(['war'], 'action')\n",
    "#if the genre is animation change it to family\n",
    "train_df_new_categories['Genre'] = train_df_new_categories['Genre'].replace(['animation'], 'family')\n",
    "#if the genre is musical change it to music\n",
    "train_df_new_categories['Genre'] = train_df_new_categories['Genre'].replace(['musical'], 'music')\n",
    "#if the genre is fantasy change it to sci-fi\n",
    "train_df_new_categories['Genre'] = train_df_new_categories['Genre'].replace(['fantasy'], 'sci-fi')\n",
    "#remove the genres that represent less than 1% of the data\n",
    "train_df_new_categories = train_df_new_categories.groupby('Genre').filter(lambda x : len(x)>(len(train_df)/100))\n",
    "#print the remaining genres\n",
    "train_df_new_categories['Genre'].value_counts().plot(kind='bar')\n",
    "#reset the index\n",
    "train_df_new_categories = train_df_new_categories.reset_index()"
   ]
  },
  {
   "cell_type": "markdown",
   "id": "1f705a106bfa3ef8",
   "metadata": {
    "collapsed": false
   },
   "source": [
    "still very unbalanced"
   ]
  },
  {
   "cell_type": "code",
   "execution_count": 9,
   "id": "e8fc342bd2b22ab7",
   "metadata": {
    "ExecuteTime": {
     "end_time": "2024-01-13T09:01:53.601656Z",
     "start_time": "2024-01-13T09:01:53.447817Z"
    },
    "collapsed": false
   },
   "outputs": [],
   "source": [
    "# create n balanced datasets\n",
    "n_datasets = 10\n",
    "balanced_datasets = []\n",
    "labels = []\n",
    "for i in range(n_datasets):\n",
    "    new_batch = train_df.groupby('Genre').apply(lambda x: x.sample(1000,replace = True)).reset_index(drop=True)\n",
    "    balanced_datasets.append(new_batch)\n",
    "    labels.append(new_batch['Genre'])"
   ]
  },
  {
   "cell_type": "code",
   "execution_count": 10,
   "id": "9fca43f1275ad830",
   "metadata": {
    "ExecuteTime": {
     "end_time": "2024-01-13T09:01:53.696265Z",
     "start_time": "2024-01-13T09:01:53.605443Z"
    },
    "collapsed": false
   },
   "outputs": [],
   "source": [
    "n_datasets_new_categories = 10\n",
    "balanced_datasets_new_categories = []\n",
    "labels_new_categories = []\n",
    "for i in range(n_datasets):\n",
    "    new_batch = train_df_new_categories.groupby('Genre').apply(lambda x: x.sample(1000,replace = True)).reset_index(drop=True)\n",
    "    balanced_datasets_new_categories.append(new_batch)\n",
    "    labels_new_categories.append(new_batch['Genre'])"
   ]
  },
  {
   "cell_type": "markdown",
   "id": "6e69c802a2cb6a98",
   "metadata": {
    "collapsed": false
   },
   "source": [
    "# models\n",
    "## vectorize data"
   ]
  },
  {
   "cell_type": "code",
   "execution_count": 11,
   "id": "a244291e5c40381f",
   "metadata": {
    "ExecuteTime": {
     "end_time": "2024-01-13T09:02:15.621262Z",
     "start_time": "2024-01-13T09:01:53.734089Z"
    },
    "collapsed": false
   },
   "outputs": [],
   "source": [
    "# vectorize each dataset with unigram\n",
    "vectorizer = TfidfVectorizer(stop_words='english', ngram_range=(1,1))\n",
    "vectorizer.fit(train_df['Description'])\n",
    "vectorizer_initial_df = vectorizer.transform(train_df['Description'])\n",
    "vectorizer_balanced_df = []\n",
    "for i in range(n_datasets):\n",
    "    vectorizer_balanced_df.append(vectorizer.transform(balanced_datasets[i]['Description']))\n",
    "vectorizer_new_categories_df = vectorizer.transform(train_df_new_categories['Description'])\n",
    "vectorizer_balanced_new_categories_df = []\n",
    "for i in range(n_datasets_new_categories):\n",
    "    vectorizer_balanced_new_categories_df.append(vectorizer.transform(balanced_datasets_new_categories[i]['Description']))"
   ]
  },
  {
   "cell_type": "markdown",
   "id": "f11744787cd112c9",
   "metadata": {
    "collapsed": false
   },
   "source": [
    "## models definition"
   ]
  },
  {
   "cell_type": "code",
   "execution_count": 12,
   "id": "70cb587f4a0eb832",
   "metadata": {
    "ExecuteTime": {
     "end_time": "2024-01-13T09:02:15.624966Z",
     "start_time": "2024-01-13T09:02:15.620053Z"
    },
    "collapsed": false
   },
   "outputs": [],
   "source": [
    "def fit_kmeans(data, max_iter=300  ,n_clusters=8, n_init=10, kmeans=None):\n",
    "    \"\"\"Fit a k-means classifier to some data.\n",
    "\n",
    "    Arguments:\n",
    "        data: The vectorized data to train the classifier on.\n",
    "        n_clusters (int): The number of clusters.\n",
    "        kmeans: A k-means classifier to use. If None, a new classifier will be created.\n",
    "\n",
    "    Returns:\n",
    "        The trained k-means classifier.\n",
    "    \"\"\"\n",
    "    if kmeans is None:\n",
    "        kmeans = KMeans(n_clusters=n_clusters, n_init=n_init, max_iter=max_iter)\n",
    "    kmeans.fit(data)\n",
    "    return kmeans"
   ]
  },
  {
   "cell_type": "code",
   "execution_count": 13,
   "id": "2a06704d3a7f965c",
   "metadata": {
    "ExecuteTime": {
     "end_time": "2024-01-13T09:02:15.626131Z",
     "start_time": "2024-01-13T09:02:15.621378Z"
    },
    "collapsed": false
   },
   "outputs": [],
   "source": [
    "def fit_random_forest(data, labels, n_estimators=100, max_depth=None, rf=None):\n",
    "    \"\"\"Fit a random forest classifier to some data.\n",
    "\n",
    "    Arguments:\n",
    "        data: The vectorized data to train the classifier on.\n",
    "        labels: The gold-standard labels.\n",
    "        n_estimators (int): The number of trees in the forest.\n",
    "        rf: A random forest classifier to use. If None, a new classifier will be created.\n",
    "\n",
    "    Returns:\n",
    "        The trained random forest classifier.\n",
    "    \"\"\"\n",
    "    if rf is None:\n",
    "        rf = RandomForestClassifier(n_estimators=n_estimators, max_depth=max_depth)\n",
    "    rf.fit(data, labels)\n",
    "    return rf"
   ]
  },
  {
   "cell_type": "code",
   "execution_count": 14,
   "id": "5375b0d423b87242",
   "metadata": {
    "ExecuteTime": {
     "end_time": "2024-01-13T09:02:15.630791Z",
     "start_time": "2024-01-13T09:02:15.624246Z"
    },
    "collapsed": false
   },
   "outputs": [],
   "source": [
    "def fit_knn(data, labels, n_neighbors=5, weights='uniform', knn=None):\n",
    "    \"\"\"Fit a k-nearest neighbors classifier to some data.\n",
    "\n",
    "    Arguments:\n",
    "        data: The vectorized data to train the classifier on.\n",
    "        labels: The gold-standard labels.\n",
    "        n_neighbors (int): The number of neighbors to consider.\n",
    "        knn: A k-nearest neighbors classifier to use. If None, a new classifier will be created.\n",
    "\n",
    "    Returns:\n",
    "        The trained k-nearest neighbors classifier.\n",
    "    \"\"\"\n",
    "    if knn is None:\n",
    "        knn = KNeighborsClassifier(n_neighbors=n_neighbors, weights=weights)\n",
    "    knn.fit(data, labels)\n",
    "    return knn"
   ]
  },
  {
   "cell_type": "markdown",
   "id": "7eb591123cbe4bfa",
   "metadata": {
    "collapsed": false
   },
   "source": [
    "## choose the best parameters for each model"
   ]
  },
  {
   "cell_type": "code",
   "execution_count": null,
   "id": "c1a0dcbd6a95d21a",
   "metadata": {
    "ExecuteTime": {
     "end_time": "2024-01-12T17:39:21.239163Z",
     "start_time": "2024-01-12T17:39:21.236792Z"
    },
    "collapsed": false
   },
   "outputs": [],
   "source": [
    "if exists('best_params.json'):\n",
    "    best_params = load(open('best_params.json'))\n",
    "else:\n",
    "    best_params = {}"
   ]
  },
  {
   "cell_type": "code",
   "execution_count": null,
   "id": "8cc0d88af341c26c",
   "metadata": {
    "ExecuteTime": {
     "end_time": "2024-01-12T17:39:21.254185Z",
     "start_time": "2024-01-12T17:39:21.245469Z"
    },
    "collapsed": false
   },
   "outputs": [],
   "source": [
    "# kmeans\n",
    "if 'kmeans' not in best_params:\n",
    "    best_params['kmeans'] = {}\n",
    "    \n",
    "kmeans = KMeans()\n",
    "grid = {'n_clusters': [3, 5, 10], 'n_init': [1, 5, 10], 'max_iter': [100, 200, 300]}\n",
    "\n",
    "#initial df\n",
    "if 'initial df' not in best_params['kmeans']:\n",
    "    kmeans_grid_init = GridSearchCV(kmeans, grid, cv=5, scoring='rand_score', verbose=2)\n",
    "    kmeans_grid_init.fit(vectorizer_initial_df)\n",
    "    print(kmeans_grid_init.cv_results_)\n",
    "    best_params['kmeans']['initial df'] = kmeans_grid_init.best_params_\n",
    "    dump(best_params, open('best_params.json', 'w'))\n",
    "\n",
    "#balanced df\n",
    "if 'balanced df' not in best_params['kmeans']:\n",
    "    temp_df = sparse.vstack(vectorizer_balanced_df)\n",
    "    kmeans_grid_balanced = GridSearchCV(kmeans, grid, cv=5, scoring='rand_score', verbose=2)\n",
    "    kmeans_grid_balanced.fit(temp_df)\n",
    "    print(kmeans_grid_balanced.cv_results_)\n",
    "    best_params['kmeans']['balanced df'] = kmeans_grid_balanced.best_params_\n",
    "    dump(best_params, open('best_params.json', 'w'))\n",
    "\n",
    "#new categories df\n",
    "if 'new categories df' not in best_params['kmeans']:\n",
    "    kmeans_grid_new_categories = GridSearchCV(kmeans, grid, cv=5, scoring='rand_score', verbose=2)\n",
    "    kmeans_grid_new_categories.fit(vectorizer_new_categories_df)\n",
    "    print(kmeans_grid_new_categories.cv_results_)\n",
    "    best_params['kmeans']['new categories df'] = kmeans_grid_new_categories.best_params_\n",
    "    dump(best_params, open('best_params.json', 'w'))\n",
    "    \n",
    "#balanced new categories df\n",
    "if 'balanced new categories df' not in best_params['kmeans']:\n",
    "    temp_df = sparse.vstack(vectorizer_balanced_new_categories_df)\n",
    "    kmeans_grid_balanced_new_categories = GridSearchCV(kmeans, grid, cv=5, scoring='rand_score', verbose=2)\n",
    "    kmeans_grid_balanced_new_categories.fit(temp_df)\n",
    "    print(kmeans_grid_balanced_new_categories.cv_results_)\n",
    "    best_params['kmeans']['balanced new categories df'] = kmeans_grid_balanced_new_categories.best_params_\n",
    "    dump(best_params, open('best_params.json', 'w'))"
   ]
  },
  {
   "cell_type": "code",
   "execution_count": null,
   "id": "b7d29eeced52cecf",
   "metadata": {
    "ExecuteTime": {
     "end_time": "2024-01-12T17:39:21.254495Z",
     "start_time": "2024-01-12T17:39:21.250595Z"
    },
    "collapsed": false
   },
   "outputs": [],
   "source": [
    "# random forest\n",
    "if 'random forest' not in best_params:\n",
    "    best_params['random forest'] = {}\n",
    "\n",
    "rf = RandomForestClassifier()\n",
    "grid = {'n_estimators': [100, 200], 'max_depth': [None, 20]}\n",
    "\n",
    "#initial df\n",
    "if 'initial df' not in best_params['random forest']:\n",
    "    rf_grid_init = GridSearchCV(rf, grid, cv=3, scoring='rand_score', verbose=2)\n",
    "    rf_grid_init.fit(vectorizer_initial_df, train_df['Genre'])\n",
    "    print(rf_grid_init.cv_results_)\n",
    "    best_params['random forest']['initial df'] = rf_grid_init.best_params_\n",
    "    dump(best_params, open('best_params.json', 'w'))\n",
    "    \n",
    "#balanced df\n",
    "if 'balanced df' not in best_params['random forest']:\n",
    "    temp_df = sparse.vstack(vectorizer_balanced_df)\n",
    "    labels_temp = list(itertools.chain.from_iterable(labels))\n",
    "    rf_grid_balanced = GridSearchCV(rf, grid, cv=3, scoring='rand_score', verbose=2)\n",
    "    rf_grid_balanced.fit(temp_df, labels_temp)\n",
    "    print(rf_grid_balanced.cv_results_)\n",
    "    best_params['random forest']['balanced df'] = rf_grid_balanced.best_params_\n",
    "    dump(best_params, open('best_params.json', 'w'))\n",
    "    \n",
    "#new categories df\n",
    "if 'new categories df' not in best_params['random forest']:\n",
    "    rf_grid_new_categories = GridSearchCV(rf, grid, cv=3, scoring='rand_score', verbose=2)\n",
    "    rf_grid_new_categories.fit(vectorizer_new_categories_df, train_df_new_categories['Genre'])\n",
    "    print(rf_grid_new_categories.cv_results_)\n",
    "    best_params['random forest']['new categories df'] = rf_grid_new_categories.best_params_\n",
    "    dump(best_params, open('best_params.json', 'w'))\n",
    "     \n",
    "#balanced new categories df\n",
    "if 'balanced new categories df' not in best_params['random forest']:\n",
    "    temp_df = sparse.vstack(vectorizer_balanced_new_categories_df)\n",
    "    labels_temp = list(itertools.chain.from_iterable(labels_new_categories))\n",
    "    rf_grid_balanced_new_categories = GridSearchCV(rf, grid, cv=3, scoring='rand_score', verbose=2)\n",
    "    rf_grid_balanced_new_categories.fit(temp_df, labels_temp)\n",
    "    print(rf_grid_balanced_new_categories.cv_results_)\n",
    "    best_params['random forest']['balanced new categories df'] = rf_grid_balanced_new_categories.best_params_\n",
    "    dump(best_params, open('best_params.json', 'w'))"
   ]
  },
  {
   "cell_type": "code",
   "execution_count": null,
   "id": "c01973f9089ea249",
   "metadata": {
    "ExecuteTime": {
     "start_time": "2024-01-12T17:39:21.255869Z"
    },
    "collapsed": false,
    "is_executing": true
   },
   "outputs": [
    {
     "name": "stdout",
     "output_type": "stream",
     "text": [
      "Fitting 3 folds for each of 6 candidates, totalling 18 fits\n"
     ]
    }
   ],
   "source": [
    "#knn\n",
    "if 'knn' not in best_params:\n",
    "    best_params['knn'] = {}\n",
    "\n",
    "knn = KNeighborsClassifier()\n",
    "grid = {'n_neighbors': [3, 5, 10], 'weights': ['uniform', 'distance']}\n",
    "\n",
    "#initial df\n",
    "if 'initial df' not in best_params['knn']:\n",
    "    knn_grid_init = GridSearchCV(knn, grid, cv=3, scoring='rand_score', verbose=2)\n",
    "    knn_grid_init.fit(vectorizer_initial_df, train_df['Genre'])\n",
    "    print(knn_grid_init.cv_results_)\n",
    "    best_params['knn']['initial df'] = knn_grid_init.best_params_\n",
    "    dump(best_params, open('best_params.json', 'w'))\n",
    "    \n",
    "#balanced df\n",
    "# if 'balanced df' not in best_params['knn']: #this takes too long\n",
    "#     temp_df = sparse.vstack(vectorizer_balanced_df)\n",
    "#     labels_temp = list(itertools.chain.from_iterable(labels))\n",
    "#     knn_grid_balanced = GridSearchCV(knn, grid, cv=3, scoring='rand_score', verbose=2)\n",
    "#     knn_grid_balanced.fit(temp_df, labels_temp)\n",
    "#     print(knn_grid_balanced.cv_results_)\n",
    "#     best_params['knn']['balanced df'] = knn_grid_balanced.best_params_\n",
    "#     dump(best_params, open('best_params.json', 'w'))\n",
    "    \n",
    "#new categories df\n",
    "if 'new categories df' not in best_params['knn']:\n",
    "    knn_grid_new_categories = GridSearchCV(knn, grid, cv=3, scoring='rand_score', verbose=2)\n",
    "    knn_grid_new_categories.fit(vectorizer_new_categories_df, train_df_new_categories['Genre'])\n",
    "    print(knn_grid_new_categories.cv_results_)\n",
    "    best_params['knn']['new categories df'] = knn_grid_new_categories.best_params_\n",
    "    dump(best_params, open('best_params.json', 'w'))\n",
    "    \n",
    "#balanced new categories df\n",
    "# if 'balanced new categories df' not in best_params['knn']: #this takes too long\n",
    "#     temp_df = sparse.vstack(vectorizer_balanced_new_categories_df)\n",
    "#     labels_temp = list(itertools.chain.from_iterable(labels_new_categories))\n",
    "#     knn_grid_balanced_new_categories = GridSearchCV(knn, grid, cv=3, scoring='rand_score', verbose=2)\n",
    "#     knn_grid_balanced_new_categories.fit(temp_df, labels_temp)\n",
    "#     print(knn_grid_balanced_new_categories.cv_results_)\n",
    "#     best_params['knn']['balanced new categories df'] = knn_grid_balanced_new_categories.best_params_\n",
    "#     dump(best_params, open('best_params.json', 'w'))"
   ]
  },
  {
   "cell_type": "markdown",
   "id": "62302831bc9efb00",
   "metadata": {
    "collapsed": false
   },
   "source": [
    "## models selection\n",
    "we use cross validation to select the best model"
   ]
  },
  {
   "cell_type": "code",
   "execution_count": 22,
   "id": "941d6abc718e592a",
   "metadata": {
    "ExecuteTime": {
     "end_time": "2024-01-13T17:20:38.781846Z",
     "start_time": "2024-01-13T17:20:38.761867Z"
    },
    "collapsed": false
   },
   "outputs": [],
   "source": [
    "#load json file with cross validation results\n",
    "if exists('cross_validation_results.json') :\n",
    "    cross_validation_results = load(open('cross_validation_results.json'))\n",
    "else:\n",
    "    cross_validation_results = {}"
   ]
  },
  {
   "cell_type": "code",
   "execution_count": 28,
   "id": "9b486dccbcc9a3b9",
   "metadata": {
    "ExecuteTime": {
     "end_time": "2024-01-13T17:21:58.090308Z",
     "start_time": "2024-01-13T17:21:58.043285Z"
    },
    "collapsed": false
   },
   "outputs": [],
   "source": [
    "if exists('best_params.json'):\n",
    "    best_params = load(open('best_params.json'))\n",
    "    # add default parameters for the grid search that took too long\n",
    "    if 'kmeans' not in best_params:\n",
    "         best_params['kmeans'] = {'initial df': {'n_clusters': 3, 'n_init': 1, 'max_iter': 100},\n",
    "                             'balanced df': {'n_clusters': 3, 'n_init': 1, 'max_iter': 100},\n",
    "                             'new categories df': {'n_clusters': 3, 'n_init': 1, 'max_iter': 100},\n",
    "                             'balanced new categories df': {'n_clusters': 3, 'n_init': 1, 'max_iter': 100}}\n",
    "    if 'random forest' not in best_params:\n",
    "        best_params['random forest'] = {'initial df': {'n_estimators': 100, 'max_depth': None},\n",
    "                                    'balanced df': {'n_estimators': 100, 'max_depth': None},\n",
    "                                    'new categories df': {'n_estimators': 100, 'max_depth': None},\n",
    "                                    'balanced new categories df': {'n_estimators': 100, 'max_depth': None}}\n",
    "    if 'knn' not in best_params:\n",
    "        best_params['knn'] = {'initial df': {'n_neighbors': 3, 'weights': 'uniform'},\n",
    "                            'balanced df': {'n_neighbors': 3, 'weights': 'uniform'},\n",
    "                            'new categories df': {'n_neighbors': 3, 'weights': 'uniform'},\n",
    "                            'balanced new categories df': {'n_neighbors': 3, 'weights': 'uniform'}}\n",
    "    if 'initial df' not in best_params['kmeans']:\n",
    "        best_params['kmeans']['initial df'] = {'n_clusters': 3, 'n_init': 1, 'max_iter': 100}\n",
    "    if 'balanced df' not in best_params['kmeans']:\n",
    "        best_params['kmeans']['balanced df'] = {'n_clusters': 3, 'n_init': 1, 'max_iter': 100}\n",
    "    if 'new categories df' not in best_params['kmeans']:\n",
    "        best_params['kmeans']['new categories df'] = {'n_clusters': 3, 'n_init': 1, 'max_iter': 100}\n",
    "    if 'balanced new categories df' not in best_params['kmeans']:\n",
    "        best_params['kmeans']['balanced new categories df'] = {'n_clusters': 3, 'n_init': 1, 'max_iter': 100}\n",
    "    if 'initial df' not in best_params['random forest']:\n",
    "        best_params['random forest']['initial df'] = {'n_estimators': 100, 'max_depth': None}\n",
    "    if 'balanced df' not in best_params['random forest']:\n",
    "        best_params['random forest']['balanced df'] = {'n_estimators': 100, 'max_depth': None}\n",
    "    if 'new categories df' not in best_params['random forest']:\n",
    "        best_params['random forest']['new categories df'] = {'n_estimators': 100, 'max_depth': None}\n",
    "    if 'balanced new categories df' not in best_params['random forest']:\n",
    "        best_params['random forest']['balanced new categories df'] = {'n_estimators': 100, 'max_depth': None}\n",
    "    if 'initial df' not in best_params['knn']:\n",
    "        best_params['knn']['initial df'] = {'n_neighbors': 3, 'weights': 'uniform'}\n",
    "    if 'balanced df' not in best_params['knn']:\n",
    "        best_params['knn']['balanced df'] = {'n_neighbors': 3, 'weights': 'uniform'}\n",
    "    if 'new categories df' not in best_params['knn']:\n",
    "        best_params['knn']['new categories df'] = {'n_neighbors': 3, 'weights': 'uniform'}\n",
    "    if 'balanced new categories df' not in best_params['knn']:\n",
    "        best_params['knn']['balanced new categories df'] = {'n_neighbors': 3, 'weights': 'uniform'}\n",
    "else:\n",
    "    best_params = {}\n",
    "    # add default parameters\n",
    "    best_params['kmeans'] = {'initial df': {'n_clusters': 3, 'n_init': 1, 'max_iter': 100},\n",
    "                             'balanced df': {'n_clusters': 3, 'n_init': 1, 'max_iter': 100},\n",
    "                             'new categories df': {'n_clusters': 3, 'n_init': 1, 'max_iter': 100},\n",
    "                             'balanced new categories df': {'n_clusters': 3, 'n_init': 1, 'max_iter': 100}}\n",
    "    best_params['random forest'] = {'initial df': {'n_estimators': 100, 'max_depth': None},\n",
    "                                    'balanced df': {'n_estimators': 100, 'max_depth': None},\n",
    "                                    'new categories df': {'n_estimators': 100, 'max_depth': None},\n",
    "                                    'balanced new categories df': {'n_estimators': 100, 'max_depth': None}}\n",
    "    best_params['knn'] = {'initial df': {'n_neighbors': 3, 'weights': 'uniform'},\n",
    "                            'balanced df': {'n_neighbors': 3, 'weights': 'uniform'},\n",
    "                            'new categories df': {'n_neighbors': 3, 'weights': 'uniform'},\n",
    "                            'balanced new categories df': {'n_neighbors': 3, 'weights': 'uniform'}}"
   ]
  },
  {
   "cell_type": "code",
   "execution_count": 17,
   "id": "da628918d1852250",
   "metadata": {
    "ExecuteTime": {
     "end_time": "2024-01-13T09:02:15.692580Z",
     "start_time": "2024-01-13T09:02:15.649531Z"
    },
    "collapsed": false
   },
   "outputs": [],
   "source": [
    "# create kfold object\n",
    "kf = KFold(n_splits=10, shuffle=True)"
   ]
  },
  {
   "cell_type": "code",
   "execution_count": null,
   "id": "e4dd9f6cf80f45c3",
   "metadata": {
    "collapsed": false
   },
   "outputs": [],
   "source": [
    "#cross validation on the initial dataset\n",
    "scores_kmeans = []\n",
    "rand_scores_rf = []\n",
    "F1_scores_rf = []\n",
    "rand_scores_knn = []\n",
    "F1_scores_knn = []\n",
    "\n",
    "if 'initial df' not in cross_validation_results:\n",
    "    cross_validation_results['initial df'] = {}\n",
    "    \n",
    "for train_index, test_index in kf.split(vectorizer_initial_df):\n",
    "    \n",
    "    #split data\n",
    "    X_train, X_test = vectorizer_initial_df[train_index], vectorizer_initial_df[test_index]\n",
    "    y_train, y_test = train_df['Genre'][train_index], train_df['Genre'][test_index]\n",
    "    \n",
    "    #fit and evaluate the models\n",
    "    if 'rand_kmeans' not in cross_validation_results['initial df']:\n",
    "        kmeans = fit_kmeans(X_train, **best_params['kmeans']['initial df'])\n",
    "        scores_kmeans.append(rand_score(y_test, kmeans.predict(X_test)))\n",
    "    \n",
    "    if 'rand_rf' not in cross_validation_results['initial df']:\n",
    "        rf = fit_random_forest(X_train, y_train, **best_params['random forest']['initial df'])\n",
    "        rand_scores_rf.append(rand_score(y_test, rf.predict(X_test)))\n",
    "        F1_scores_rf.append(f1_score(y_test, rf.predict(X_test), average='weighted'))\n",
    "    \n",
    "    # if 'rand_knn' not in cross_validation_results['initial df']:#this takes too long\n",
    "    #     knn = fit_knn(X_train, y_train, **best_params['knn']['initial df'])\n",
    "    #     rand_scores_knn.append(rand_score(y_test, knn.predict(X_test)))\n",
    "    #     F1_scores_knn.append(f1_score(y_test, knn.predict(X_test), average='weighted'))\n",
    "\n",
    "if scores_kmeans!=[]: cross_validation_results['initial df']['rand_kmeans'] = scores_kmeans\n",
    "if rand_scores_rf!=[]: cross_validation_results['initial df']['rand_rf'] = rand_scores_rf\n",
    "if F1_scores_rf!=[]: cross_validation_results['initial df']['F1_rf'] = F1_scores_rf\n",
    "if rand_scores_knn!=[]: cross_validation_results['initial df']['rand_knn'] = rand_scores_knn\n",
    "if F1_scores_knn!=[]: cross_validation_results['initial df']['F1_knn'] = F1_scores_knn\n",
    "dump(cross_validation_results, open('cross_validation_results.json', 'w'))"
   ]
  },
  {
   "cell_type": "code",
   "execution_count": null,
   "id": "a58c93fed8696b97",
   "metadata": {
    "collapsed": false
   },
   "outputs": [],
   "source": [
    "#cross validation on the balanced datasets\n",
    "scores_kmeans_balanced = []\n",
    "rand_scores_rf_balanced = []\n",
    "F1_scores_rf_balanced = []\n",
    "rand_scores_knn_balanced = []\n",
    "F1_scores_knn_balanced = []\n",
    "\n",
    "if 'balanced df' not in cross_validation_results:\n",
    "    cross_validation_results['balanced df'] = {}\n",
    "        \n",
    "for i in range(n_datasets):\n",
    "    # the ith dataset is used as test set and the rest as training set\n",
    "    X_test = vectorizer_balanced_df[i]\n",
    "    X_train = sparse.vstack(vectorizer_balanced_df[:i] + vectorizer_balanced_df[i+1:])\n",
    "    y_test = balanced_datasets[i]['Genre']\n",
    "    y_train = labels[:i] + labels[i+1:]\n",
    "    y_train = list(itertools.chain.from_iterable(y_train))\n",
    "    \n",
    "    #fit and evaluate the models\n",
    "    if 'rand_kmeans' not in cross_validation_results['balanced df']:\n",
    "        kmeans = fit_kmeans(X_train, **best_params['kmeans']['balanced df'])\n",
    "        scores_kmeans_balanced.append(rand_score(y_test, kmeans.predict(X_test)))\n",
    "        \n",
    "    if 'rand_rf' not in cross_validation_results['balanced df']:\n",
    "        rf = fit_random_forest(X_train, y_train, **best_params['random forest']['balanced df'])\n",
    "        rand_scores_rf_balanced.append(rand_score(y_test, rf.predict(X_test)))\n",
    "        F1_scores_rf_balanced.append(f1_score(y_test, rf.predict(X_test), average='weighted'))\n",
    "    \n",
    "    # if 'rand_knn' not in cross_validation_results['balanced df']: #this takes too long\n",
    "    #     knn = fit_knn(X_train, y_train, **best_params['knn']['balanced df'])\n",
    "    #     rand_scores_knn_balanced.append(rand_score(y_test, knn.predict(X_test)))\n",
    "    #     F1_scores_knn_balanced.append(f1_score(y_test, knn.predict(X_test), average='weighted'))\n",
    "    \n",
    "        \n",
    "if scores_kmeans_balanced!=[]: cross_validation_results['balanced df']['rand_kmeans'] = scores_kmeans_balanced\n",
    "if rand_scores_rf_balanced!=[]:cross_validation_results['balanced df']['rand_rf'] = rand_scores_rf_balanced\n",
    "if F1_scores_rf_balanced!=[]:cross_validation_results['balanced df']['F1_rf'] = F1_scores_rf_balanced\n",
    "if rand_scores_knn_balanced!=[]:cross_validation_results['balanced df']['rand_knn'] = rand_scores_knn_balanced\n",
    "if F1_scores_knn_balanced!=[]:cross_validation_results['balanced df']['F1_knn'] = F1_scores_knn_balanced    \n",
    "dump(cross_validation_results, open('cross_validation_results.json', 'w'))"
   ]
  },
  {
   "cell_type": "code",
   "execution_count": null,
   "id": "8704550bff827644",
   "metadata": {
    "ExecuteTime": {
     "end_time": "2024-01-11T20:06:25.619756Z",
     "start_time": "2024-01-11T18:52:33.301906Z"
    },
    "collapsed": false
   },
   "outputs": [],
   "source": [
    "#cross validation on the dataset with new categories\n",
    "scores_kmeans_new_categories = []\n",
    "rand_scores_rf_new_categories = []\n",
    "F1_scores_rf_new_categories = []\n",
    "rand_scores_knn_new_categories = []\n",
    "F1_scores_knn_new_categories = []\n",
    "\n",
    "if 'new categories df' not in cross_validation_results:\n",
    "    cross_validation_results['new categories df'] = {}\n",
    "        \n",
    "for train_index, test_index in kf.split(vectorizer_new_categories_df):\n",
    "    #split data\n",
    "    X_train, X_test = vectorizer_new_categories_df[train_index], vectorizer_new_categories_df[test_index]\n",
    "    y_train, y_test = train_df_new_categories['Genre'][train_index], train_df_new_categories['Genre'][test_index]\n",
    "    \n",
    "    #fit and evaluate the models\n",
    "    if 'rand_kmeans' not in cross_validation_results['new categories df']:\n",
    "        kmeans = fit_kmeans(X_train, **best_params['kmeans']['new categories df'])\n",
    "        scores_kmeans_new_categories.append(rand_score(y_test, kmeans.predict(X_test)))\n",
    "        \n",
    "    if 'rand_rf' not in cross_validation_results['new categories df']:\n",
    "        rf = fit_random_forest(X_train, y_train, **best_params['random forest']['new categories df'])\n",
    "        rand_scores_rf_new_categories.append(rand_score(y_test, rf.predict(X_test)))\n",
    "        F1_scores_rf_new_categories.append(f1_score(y_test, rf.predict(X_test), average='weighted'))\n",
    "    \n",
    "    if 'rand_knn' not in cross_validation_results['new categories df']:\n",
    "        knn = fit_knn(X_train, y_train, **best_params['knn']['new categories df'])\n",
    "        rand_scores_knn_new_categories.append(rand_score(y_test, knn.predict(X_test)))\n",
    "        F1_scores_knn_new_categories.append(f1_score(y_test, knn.predict(X_test), average='weighted'))\n",
    "\n",
    "if scores_kmeans_new_categories!=[]: cross_validation_results['new categories df']['rand_kmeans'] = scores_kmeans_new_categories\n",
    "if rand_scores_rf_new_categories!=[]:cross_validation_results['new categories df']['rand_rf'] = rand_scores_rf_new_categories\n",
    "if F1_scores_rf_new_categories!=[]:cross_validation_results['new categories df']['F1_rf'] = F1_scores_rf_new_categories\n",
    "if rand_scores_knn_new_categories!=[]:cross_validation_results['new categories df']['rand_knn'] = rand_scores_knn_new_categories\n",
    "if F1_scores_knn_new_categories!=[]:cross_validation_results['new categories df']['F1_knn'] = F1_scores_knn_new_categories\n",
    "dump(cross_validation_results, open('cross_validation_results.json', 'w'))"
   ]
  },
  {
   "cell_type": "code",
   "execution_count": null,
   "id": "e3a9e9b244efd13a",
   "metadata": {
    "collapsed": false
   },
   "outputs": [],
   "source": [
    "#cross validation on the balanced datasets with new categories\n",
    "scores_kmeans_balanced_new_categories = []\n",
    "rand_scores_rf_balanced_new_categories = []\n",
    "F1_scores_rf_balanced_new_categories = []\n",
    "rand_scores_knn_balanced_new_categories = []\n",
    "F1_scores_knn_balanced_new_categories = []\n",
    "\n",
    "if 'balanced new categories df' not in cross_validation_results:\n",
    "    cross_validation_results['balanced new categories df'] = {}\n",
    "        \n",
    "for i in range(n_datasets_new_categories):\n",
    "    # the ith dataset is used as test set and the rest as training set\n",
    "    X_test = vectorizer_balanced_new_categories_df[i]\n",
    "    X_train = sparse.vstack(vectorizer_balanced_new_categories_df[:i] + vectorizer_balanced_new_categories_df[i+1:])\n",
    "    y_test = balanced_datasets_new_categories[i]['Genre']\n",
    "    y_train = labels_new_categories[:i] + labels_new_categories[i+1:]\n",
    "    y_train = list(itertools.chain.from_iterable(y_train))\n",
    "    \n",
    "    #fit and evaluate the models\n",
    "    if 'rand_kmeans' not in cross_validation_results['balanced new categories df']:\n",
    "        kmeans = fit_kmeans(X_train)\n",
    "        scores_kmeans_balanced_new_categories.append(rand_score(y_test, kmeans.predict(X_test)))\n",
    "        \n",
    "    if 'rand_rf' not in cross_validation_results['balanced new categories df']:\n",
    "        rf = fit_random_forest(X_train, y_train)\n",
    "        rand_scores_rf_balanced_new_categories.append(rand_score(y_test, rf.predict(X_test)))\n",
    "        F1_scores_rf_balanced_new_categories.append(f1_score(y_test, rf.predict(X_test), average='weighted'))\n",
    "    \n",
    "    # if 'rand_knn' not in cross_validation_results['balanced new categories df']:#this takes too long\n",
    "    #     knn = fit_knn(X_train, y_train)\n",
    "    #     rand_scores_knn_balanced_new_categories.append(rand_score(y_test, knn.predict(X_test)))\n",
    "    #     F1_scores_knn_balanced_new_categories.append(f1_score(y_test, knn.predict(X_test), average='weighted'))\n",
    "        \n",
    "if scores_kmeans_balanced_new_categories!=[]: cross_validation_results['balanced new categories df']['rand_kmeans'] = scores_kmeans_balanced_new_categories\n",
    "if rand_scores_rf_balanced_new_categories!=[]:cross_validation_results['balanced new categories df']['rand_rf'] = rand_scores_rf_balanced_new_categories\n",
    "if F1_scores_rf_balanced_new_categories!=[]:cross_validation_results['balanced new categories df']['F1_rf'] = F1_scores_rf_balanced_new_categories\n",
    "if rand_scores_knn_balanced_new_categories!=[]:cross_validation_results['balanced new categories df']['rand_knn'] = rand_scores_knn_balanced_new_categories\n",
    "if F1_scores_knn_balanced_new_categories!=[]:cross_validation_results['balanced new categories df']['F1_knn'] = F1_scores_knn_balanced_new_categories\n",
    "dump(cross_validation_results, open('cross_validation_results.json', 'w'))"
   ]
  },
  {
   "cell_type": "code",
   "execution_count": 66,
   "id": "eac5b7a1d8be27f8",
   "metadata": {
    "ExecuteTime": {
     "end_time": "2024-01-13T18:25:19.094022Z",
     "start_time": "2024-01-13T18:25:19.077540Z"
    },
    "collapsed": false
   },
   "outputs": [
    {
     "name": "stdout",
     "output_type": "stream",
     "text": [
      "initial df\n",
      "kmeans\n",
      "rand score  0.5832324186235421\n",
      "rf\n",
      "rand score  0.6425313673785811\n",
      "F1 score  0.39453479524660784\n",
      "knn\n",
      "rand score  0.752739668094798\n",
      "F1 score  0.3371013788723464\n",
      "####################################################\n",
      "balanced df\n",
      "kmeans\n",
      "rand score  0.5147409083738356\n",
      "rf\n",
      "rand score  0.9972090678255572\n",
      "F1 score  0.979366847688848\n",
      "####################################################\n",
      "new categories df\n",
      "kmeans\n",
      "rand score  0.583068933301401\n",
      "rf\n",
      "rand score  0.6505429268270854\n",
      "F1 score  0.43384372174649455\n",
      "knn\n",
      "rand score  0.7299460987466042\n",
      "F1 score  0.3669002975687328\n",
      "####################################################\n",
      "balanced new categories df\n",
      "kmeans\n",
      "rand score  0.8197847458491931\n",
      "rf\n",
      "rand score  0.9940998459073608\n",
      "F1 score  0.0\n"
     ]
    }
   ],
   "source": [
    "# print the results of the cross validation as a table\n",
    "cross_validation_results = load(open('cross_validation_results.json'))\n",
    "\n",
    "print('initial df')\n",
    "print('kmeans')\n",
    "print('rand score ', (np.mean(cross_validation_results['initial df']['rand_kmeans'])))\n",
    "print('rf')\n",
    "print('rand score ', np.mean(cross_validation_results['initial df']['rand_rf']))\n",
    "print('F1 score ', np.mean(cross_validation_results['initial df']['F1_rf']))\n",
    "print('knn')\n",
    "print('rand score ', np.mean(cross_validation_results['initial df']['rand_knn']))\n",
    "print('F1 score ', np.mean(cross_validation_results['initial df']['F1_knn']))\n",
    "print('####################################################')\n",
    "\n",
    "print('balanced df')\n",
    "print('kmeans')\n",
    "print('rand score ', np.mean(cross_validation_results['balanced df']['rand_kmeans']))\n",
    "print('rf')\n",
    "print('rand score ', np.mean(cross_validation_results['balanced df']['rand_rf']))\n",
    "print('F1 score ', np.mean(cross_validation_results['balanced df']['F1_rf']))\n",
    "# print('knn') #this takes too long\n",
    "# print(np.mean(cross_validation_results['balanced df']['rand_knn']))\n",
    "# print(np.mean(cross_validation_results['balanced df']['F1_knn']))\n",
    "print('####################################################')\n",
    "\n",
    "print('new categories df')\n",
    "print('kmeans')\n",
    "print('rand score ', np.mean(cross_validation_results['new categories df']['rand_kmeans']))\n",
    "print('rf')\n",
    "print('rand score ', np.mean(cross_validation_results['new categories df']['rand_rf']))\n",
    "print('F1 score ', np.mean(cross_validation_results['new categories df']['F1_rf']))\n",
    "print('knn')\n",
    "print('rand score ', np.mean(cross_validation_results['new categories df']['rand_knn']))\n",
    "print('F1 score ', np.mean(cross_validation_results['new categories df']['F1_knn']))\n",
    "print('####################################################')\n",
    "\n",
    "print('balanced new categories df')\n",
    "print('kmeans')\n",
    "print('rand score ', np.mean(cross_validation_results['balanced new categories df']['rand_kmeans']))\n",
    "print('rf')\n",
    "print('rand score ', np.mean(cross_validation_results['balanced new categories df']['rand_rf']))\n",
    "print('F1 score ', np.mean(cross_validation_results['balanced new categories df']['F1_rf']))\n",
    "# print('knn') #this takes too long\n",
    "# print(np.mean(cross_validation_results['balanced new categories df']['rand_knn']))\n",
    "# print(np.mean(cross_validation_results['balanced new categories df']['F1_knn']))\n"
   ]
  },
  {
   "cell_type": "markdown",
   "id": "885b28d9dbc573de",
   "metadata": {
    "collapsed": false
   },
   "source": [
    "The best model is the random forest on the dataset with new categories"
   ]
  },
  {
   "cell_type": "code",
   "execution_count": 97,
   "id": "8dbfd44c794c0523",
   "metadata": {
    "ExecuteTime": {
     "end_time": "2024-01-13T19:28:17.819881Z",
     "start_time": "2024-01-13T19:28:15.703116Z"
    },
    "collapsed": false
   },
   "outputs": [
    {
     "data": {
      "text/plain": [
       "0.0"
      ]
     },
     "execution_count": 97,
     "metadata": {},
     "output_type": "execute_result"
    }
   ],
   "source": [
    "precision_score(rf.predict(X_test), y_test, average='weighted', zero_division=0)"
   ]
  },
  {
   "cell_type": "code",
   "execution_count": 92,
   "id": "c5d4020747022e6f",
   "metadata": {
    "ExecuteTime": {
     "end_time": "2024-01-13T19:25:59.039223Z",
     "start_time": "2024-01-13T19:25:57.123194Z"
    },
    "collapsed": false
   },
   "outputs": [
    {
     "data": {
      "text/plain": [
       "0.0"
      ]
     },
     "execution_count": 92,
     "metadata": {},
     "output_type": "execute_result"
    }
   ],
   "source": [
    "recall_score(rf.predict(X_test), y_test, average='weighted', zero_division=0)"
   ]
  },
  {
   "cell_type": "markdown",
   "id": "bfa51e9225e94892",
   "metadata": {
    "collapsed": false
   },
   "source": [
    "# Test"
   ]
  },
  {
   "cell_type": "code",
   "execution_count": 99,
   "id": "9d93f2d99d93790c",
   "metadata": {
    "ExecuteTime": {
     "end_time": "2024-01-13T19:38:33.320002Z",
     "start_time": "2024-01-13T19:30:04.519596Z"
    },
    "collapsed": false
   },
   "outputs": [],
   "source": [
    "#fit the best models on the dataset that gave the best results\n",
    "rf_best = fit_random_forest(vectorizer_new_categories_df, train_df_new_categories['Genre'], **best_params['random forest']['new categories df'])"
   ]
  },
  {
   "cell_type": "code",
   "execution_count": 100,
   "id": "1cf6bf765a6fbc97",
   "metadata": {
    "ExecuteTime": {
     "end_time": "2024-01-13T19:38:42.094397Z",
     "start_time": "2024-01-13T19:38:33.365592Z"
    },
    "collapsed": false
   },
   "outputs": [],
   "source": [
    "#predict the genres of the test set\n",
    "predictions = rf_best.predict(vectorizer.transform(test_df['Description']))"
   ]
  },
  {
   "cell_type": "code",
   "execution_count": 40,
   "id": "4714017e7c09b43",
   "metadata": {
    "ExecuteTime": {
     "end_time": "2024-01-13T17:49:15.981684Z",
     "start_time": "2024-01-13T17:49:15.037763Z"
    },
    "collapsed": false
   },
   "outputs": [],
   "source": [
    "#save the predictions\n",
    "test_df_solution['Genre'] = predictions\n",
    "test_df_solution.to_csv('test_data_prediction.txt', sep=',', index=False, header=False)"
   ]
  },
  {
   "cell_type": "code",
   "execution_count": 101,
   "id": "e760474030714ee3",
   "metadata": {
    "ExecuteTime": {
     "end_time": "2024-01-13T19:38:42.728842Z",
     "start_time": "2024-01-13T19:38:42.137624Z"
    },
    "collapsed": false
   },
   "outputs": [
    {
     "name": "stdout",
     "output_type": "stream",
     "text": [
      "rand score  0.6458737300541145\n",
      "F1 score  0.396032737431593\n",
      "precision score  0.5005133225055428\n",
      "recall score  0.49016605166051663\n"
     ]
    }
   ],
   "source": [
    "#evaluate the predictions\n",
    "print(\"rand score \" ,rand_score(test_df_solution['Genre'], predictions))\n",
    "print(\"F1 score \", f1_score(test_df_solution['Genre'], predictions, average='weighted'))\n",
    "print(\"precision score \", precision_score(test_df_solution['Genre'], predictions, average='weighted', zero_division=0))\n",
    "print(\"recall score \", recall_score(test_df_solution['Genre'], predictions, average='weighted', zero_division=0))"
   ]
  },
  {
   "cell_type": "code",
   "execution_count": 37,
   "id": "ab6b04249221dbc6",
   "metadata": {
    "ExecuteTime": {
     "end_time": "2024-01-13T17:48:47.419792Z",
     "start_time": "2024-01-13T17:48:47.340338Z"
    },
    "collapsed": false
   },
   "outputs": [
    {
     "data": {
      "text/plain": [
       "array([[   16,     0,     0,     0,     0,    45,     0,   319,   880,\n",
       "            0,     0,     0,     0,    42,     1,     0,     0,     0,\n",
       "            0,     0,     4,     6,     0,     0,     0,     0,     1],\n",
       "       [    0,    46,    16,     0,     0,    63,     0,   101,   354,\n",
       "            0,     0,     0,     0,     6,     0,     0,     0,     0,\n",
       "            0,     0,     0,     4,     0,     0,     0,     0,     0],\n",
       "       [    0,    24,    87,     0,     0,    39,     0,   223,   377,\n",
       "            0,     0,     0,     0,    17,     0,     0,     0,     0,\n",
       "            0,     0,     2,     5,     0,     0,     0,     0,     1],\n",
       "       [    0,     0,     0,     0,     0,    58,     0,   163,   250,\n",
       "            4,     0,     0,     0,     9,     0,     0,     0,     0,\n",
       "            0,     0,     5,     9,     0,     0,     0,     0,     0],\n",
       "       [    0,     0,     0,     0,     0,     5,     0,   195,    63,\n",
       "            0,     0,     0,     0,     0,     0,     0,     0,     0,\n",
       "            0,     0,     0,     1,     0,     0,     0,     0,     0],\n",
       "       [    1,     0,     0,     0,     0,  1830,     0,  1082,  4445,\n",
       "            1,     0,     0,     0,    59,     2,     0,     0,     0,\n",
       "            1,     0,     1,    18,     0,     0,     0,     0,     6],\n",
       "       [    0,     0,     0,     0,     0,    20,     0,    79,   385,\n",
       "            0,     0,     0,     0,    18,     0,     0,     0,     0,\n",
       "            0,     0,     0,     2,     0,     0,     0,     0,     1],\n",
       "       [    1,     0,     0,     0,     0,    87,     0, 11792,  1173,\n",
       "            1,     0,     0,     0,    19,     2,     0,     0,     0,\n",
       "            0,     0,     1,    17,     0,     0,     0,     0,     3],\n",
       "       [    0,     0,     1,     0,     0,   251,     0,  1889, 11397,\n",
       "            1,     0,     0,     0,    36,     3,     0,     0,     0,\n",
       "            0,     1,     3,    26,     0,     0,     0,     0,     4],\n",
       "       [    0,     0,     0,     0,     0,    77,     0,   250,   419,\n",
       "           19,     0,     0,     0,     6,     1,     0,     0,     0,\n",
       "            5,     0,     0,     5,     0,     0,     0,     0,     1],\n",
       "       [    0,     0,     0,     0,     0,    12,     0,    97,   194,\n",
       "            1,     0,     0,     0,    14,     0,     0,     0,     0,\n",
       "            0,     0,     2,     2,     0,     0,     0,     0,     0],\n",
       "       [    0,     0,     0,     0,     0,    49,     0,   107,    31,\n",
       "            0,     0,     0,     0,     0,     0,     0,     0,     0,\n",
       "            0,     0,     0,     6,     0,     0,     0,     0,     0],\n",
       "       [    0,     0,     0,     0,     0,     1,     0,   187,    55,\n",
       "            0,     0,     0,     0,     0,     0,     0,     0,     0,\n",
       "            0,     0,     0,     0,     0,     0,     0,     0,     0],\n",
       "       [    1,     1,     0,     0,     0,    45,     0,   332,  1232,\n",
       "            0,     0,     0,     0,   587,     0,     0,     0,     0,\n",
       "            0,     0,     1,     3,     0,     0,     0,     0,     2],\n",
       "       [    0,     0,     0,     0,     0,    28,     0,   563,    58,\n",
       "            0,     0,     0,     0,     1,    78,     0,     0,     0,\n",
       "            0,     0,     0,     3,     0,     0,     0,     0,     0],\n",
       "       [    0,     0,     0,     0,     0,    26,     0,    84,   153,\n",
       "            0,     0,     0,     0,     1,    11,     0,     0,     0,\n",
       "            0,     0,     0,     1,     0,     0,     0,     0,     0],\n",
       "       [    0,     0,     0,     0,     0,     7,     0,    51,   230,\n",
       "            0,     0,     0,     0,    26,     0,     0,     0,     0,\n",
       "            0,     0,     0,     4,     0,     0,     0,     0,     0],\n",
       "       [    0,     0,     0,     0,     0,     6,     0,   157,    18,\n",
       "            0,     0,     0,     0,     0,     0,     0,     0,     0,\n",
       "            0,     0,     0,     0,     0,     0,     0,     0,     0],\n",
       "       [    0,     0,     0,     0,     0,    80,     0,   585,   205,\n",
       "            0,     0,     0,     0,     4,     2,     0,     0,     0,\n",
       "            4,     0,     0,     3,     0,     0,     0,     0,     0],\n",
       "       [    0,     0,     0,     0,     0,    28,     0,    33,   607,\n",
       "            0,     0,     0,     0,     2,     0,     0,     0,     0,\n",
       "            0,     2,     0,     0,     0,     0,     0,     0,     0],\n",
       "       [    0,     0,     0,     0,     0,    21,     0,   279,   304,\n",
       "            0,     0,     0,     0,    21,     0,     0,     0,     0,\n",
       "            0,     0,    17,     4,     0,     0,     0,     0,     0],\n",
       "       [    1,     0,     0,     0,     0,   161,     0,  2236,  2302,\n",
       "            1,     0,     0,     0,    50,     3,     0,     0,     0,\n",
       "            0,     0,     2,   315,     0,     0,     0,     0,     1],\n",
       "       [   15,     0,     0,     0,     0,    12,     0,   374,    26,\n",
       "            0,     0,     0,     0,     0,     0,     0,     0,     0,\n",
       "            0,     0,     0,     3,     0,     0,     0,     0,     1],\n",
       "       [    0,     0,     0,     0,     0,    32,     0,   336,    18,\n",
       "            0,     0,     0,     0,     1,     2,     0,     0,     0,\n",
       "            0,     0,     0,     2,     0,     0,     0,     0,     0],\n",
       "       [    0,     1,     0,     0,     0,    20,     0,   168,  1260,\n",
       "            0,     0,     0,     0,   138,     1,     0,     0,     0,\n",
       "            0,     0,     0,     1,     0,     0,     0,     0,     1],\n",
       "       [    3,     0,     0,     0,     0,     4,     0,    69,    55,\n",
       "            0,     0,     0,     0,     1,     0,     0,     0,     0,\n",
       "            0,     0,     0,     0,     0,     0,     0,     0,     0],\n",
       "       [    0,     0,     0,     0,     0,    22,     0,    40,   518,\n",
       "            0,     0,     0,     0,    11,     0,     0,     0,     0,\n",
       "            0,     0,     0,     0,     0,     0,     0,     0,   441]])"
      ]
     },
     "execution_count": 37,
     "metadata": {},
     "output_type": "execute_result"
    }
   ],
   "source": [
    "#confusion matrix\n",
    "confusion_matrix(test_df_solution['Genre'], predictions)"
   ]
  },
  {
   "cell_type": "code",
   "execution_count": 84,
   "id": "82445743e48b3ee7",
   "metadata": {
    "ExecuteTime": {
     "end_time": "2024-01-13T19:10:32.426771Z",
     "start_time": "2024-01-13T19:10:31.903183Z"
    },
    "collapsed": false
   },
   "outputs": [
    {
     "data": {
      "text/plain": [
       "Text(0.5, 1.0, 'Confusion matrix')"
      ]
     },
     "execution_count": 84,
     "metadata": {},
     "output_type": "execute_result"
    },
    {
     "data": {
      "image/png": "[encoded data removed]",
      "text/plain": [
       "<Figure size 640x480 with 2 Axes>"
      ]
     },
     "metadata": {},
     "output_type": "display_data"
    }
   ],
   "source": [
    "from matplotlib.colors import SymLogNorm\n",
    "import matplotlib.pyplot as plt\n",
    "sns.heatmap(confusion_matrix(test_df_solution['Genre'], predictions), annot=True, fmt='g', cmap='Blues',norm=SymLogNorm(linthresh=1, linscale=0.01), xticklabels=rf_best.classes_, yticklabels=rf_best.classes_)\n",
    "plt.ylabel('True label')\n",
    "plt.xlabel('Predicted label')\n",
    "plt.title('Confusion matrix')"
   ]
  }
 ],
 "metadata": {
  "kernelspec": {
   "display_name": "Python 3",
   "language": "python",
   "name": "python3"
  },
  "language_info": {
   "codemirror_mode": {
    "name": "ipython",
    "version": 2
   },
   "file_extension": ".py",
   "mimetype": "text/x-python",
   "name": "python",
   "nbconvert_exporter": "python",
   "pygments_lexer": "ipython2",
   "version": "2.7.6"
  }
 },
 "nbformat": 4,
 "nbformat_minor": 5
}
