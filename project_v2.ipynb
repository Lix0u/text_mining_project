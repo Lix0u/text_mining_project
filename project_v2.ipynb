{
 "cells": [
  {
   "cell_type": "markdown",
   "source": [
    "use a score for each class to evaluate the performance as the data is very imbalanced"
   ],
   "metadata": {
    "collapsed": false
   },
   "id": "23ff811032b61230"
  },
  {
   "cell_type": "code",
   "execution_count": 5,
   "id": "initial_id",
   "metadata": {
    "collapsed": true,
    "ExecuteTime": {
     "end_time": "2023-12-27T13:35:42.801066Z",
     "start_time": "2023-12-27T13:35:42.743873Z"
    }
   },
   "outputs": [],
   "source": [
    "#imports \n",
    "import pandas as pd\n",
    "from sklearn.ensemble import RandomForestClassifier\n",
    "from sklearn.feature_extraction.text import TfidfVectorizer\n",
    "from sklearn.cluster import KMeans\n",
    "from sklearn.metrics import rand_score\n",
    "from joblib import dump, load\n",
    "from sklearn.neural_network import MLPClassifier\n",
    "import os"
   ]
  },
  {
   "cell_type": "code",
   "outputs": [],
   "source": [
    "#read in data\n",
    "train_df = pd.read_csv('Genre Classification Dataset-IMDB/train_data.txt', sep=' ::: ', names=['Title', 'Genre', 'Description'], engine='python')\n",
    "test_df = pd.read_csv('Genre Classification Dataset-IMDB/test_data.txt', sep=' ::: ', names=['Title', 'Description'], engine='python')\n",
    "test_df_solution = pd.read_csv('Genre Classification Dataset-IMDB/test_data_solution.txt', sep=' ::: ', names=['Title', 'Genre', 'Description'], engine='python')"
   ],
   "metadata": {
    "collapsed": false,
    "ExecuteTime": {
     "end_time": "2023-12-27T13:35:44.708696Z",
     "start_time": "2023-12-27T13:35:42.810230Z"
    }
   },
   "id": "115d174592291c2",
   "execution_count": 6
  },
  {
   "cell_type": "markdown",
   "source": [
    "# Get reviews for each movie\n",
    "We will use the IMDB API to get reviews for each movie. We will use the movie title to get the movie id and then use the movie id to get the reviews."
   ],
   "metadata": {
    "collapsed": false
   },
   "id": "cd2dbac4de027a08"
  },
  {
   "cell_type": "markdown",
   "source": [
    "import requests\n",
    "\n",
    "def get_movie_id(title):\n",
    "    \"\"\"Get the IMDB movie ID for a movie.\n",
    "\n",
    "    Arguments:\n",
    "        title (str): The title of the movie.\n",
    "\n",
    "    Returns:\n",
    "        The IMDB movie ID.\n",
    "    \"\"\"\n",
    "    print(title)\n",
    "    url = 'https://v2.sg.media-imdb.com/suggestion/titles/{}.json'.format(title)\n",
    "    print(url)\n",
    "    response = requests.get(url)\n",
    "    print(response)\n",
    "    return response.json()['d'][0]['id']\n",
    "\n",
    "def get_movie_reviews(movie_id):\n",
    "    \"\"\"Get the reviews for a movie.\n",
    "\n",
    "    Arguments:\n",
    "        movie_id (str): The IMDB movie ID.\n",
    "\n",
    "    Returns:\n",
    "        A list of reviews for the movie.\n",
    "    \"\"\"\n",
    "    url = 'https://www.imdb.com/title/{}/reviews'.format(movie_id)\n",
    "    response = requests.get(url)\n",
    "    print(response.json()['reviews'])\n",
    "    return response.json()['reviews']"
   ],
   "metadata": {
    "collapsed": false
   },
   "id": "b4beab828044f317"
  },
  {
   "cell_type": "markdown",
   "source": [
    "# get reviews for each movie\n",
    "train_df['Reviews'] = train_df['Title'].apply(lambda x: get_movie_reviews(get_movie_id(x)))\n",
    "train_df.head()"
   ],
   "metadata": {
    "collapsed": false
   },
   "id": "88f10c045b4f7b0c"
  },
  {
   "cell_type": "markdown",
   "source": [
    "# Data Exploration"
   ],
   "metadata": {
    "collapsed": false
   },
   "id": "597a720fa4b30a19"
  },
  {
   "cell_type": "code",
   "outputs": [
    {
     "name": "stdout",
     "output_type": "stream",
     "text": [
      "54214\n"
     ]
    },
    {
     "data": {
      "text/plain": "                              Title     Genre  \\\n1      Oscar et la dame rose (2009)     drama   \n2                      Cupid (1997)  thriller   \n3  Young, Wild and Wonderful (1980)     adult   \n4             The Secret Sin (1915)     drama   \n5            The Unrecovered (2007)     drama   \n\n                                                                                                                                                                                                                                                                                                                                                                                                                                                                                                                                                                                                                                                                                                                                                                                                                                                                                                                                                                                                                                                                                                                 Description  \n1                                                                                                                                                                                                                                                                                                                                                                                                                                                                                                                                                          Listening in to a conversation between his doctor and parents, 10-year-old Oscar learns what nobody has the courage to tell him. He only has a few weeks to live. Furious, he refuses to speak to anyone except straight-talking Rose, the lady in pink he meets on the hospital stairs. As Christmas approaches, Rose uses her fantastical experiences as a professional wrestler, her imagination, wit and charm to allow Oscar to live life and love to the full, in the company of his friends Pop Corn, Einstein, Bacon and childhood sweetheart Peggy Blue.  \n2                                                                                                                                                                                                                                                                                                                                                                                                                                                                                                                                                                                                                                                                                                                                                                                                                                                                                                                                    A brother and sister with a past incestuous relationship have a current murderous relationship. He murders the women who reject him and she murders the women who get too close to him.  \n3                                                                                                                                                                                                                                                                                                                                                                                                                                                  As the bus empties the students for their field trip to the Museum of Natural History, little does the tour guide suspect that the students are there for more than just another tour. First, during the lecture films, the coeds drift into dreams of the most erotic fantasies one can imagine. After the films, they release the emotion of the fantasies in the most erotic and uncommon ways. One slips off to the curator's office for a little \"acquisition. \" Another finds the anthropologist to see what bones can be identified. Even the head teacher isn't immune. Soon the tour is over, but as the bus departs, everyone admits it was quite an education.  \n4  To help their unemployed father make ends meet, Edith and her twin sister Grace work as seamstresses . An invalid, Grace falls prey to the temptations of Chinatown opium and becomes an addict, a condition worsened by a misguided physician who prescribes morphine to ease her pain. When their father strikes oil, the family enjoys a new prosperity and the sisters meet the eligible Jack Herron, a fellow oil prospector. To Grace's shock, Jack falls in love with Edith and in her jealousy, Grace tells Jack that Edith, not she, has a drug problem. Hinting that her sister will soon need more morphine, Grace arranges for a dinner in Chinatown with the couple. While her sister and Jack dance, Grace slips away to an opium den. Edith follows her, but ends up in the wrong den and is arrested in an ensuing drug raid. After he bails her out of jail, Edith takes an angry Jack to search for Grace and stumbles across her half-conscious body lying in the street. The truth about the sisters is revealed, and after sending Grace to a sanitarium in the country, Jack and Edith are married.  \n5                                                                                                                                                                                                                                                                                                                                                                                                                                                                           The film's title refers not only to the un-recovered bodies at ground zero, but also to the state of the nation at large. Set in the hallucinatory period of time between September 11 and Halloween of 2001, The Unrecovered examines the effect of terror on the average mind, the way a state of heightened anxiety and/or alertness can cause the average person to make the sort of imaginative connections that are normally made only by artists and conspiracy theorists-both of whom figure prominently in this film. The Unrecovered explores the way in which irony, empathy, and paranoia relate to one another in the wake of 9/11.  ",
      "text/html": "<div>\n<style scoped>\n    .dataframe tbody tr th:only-of-type {\n        vertical-align: middle;\n    }\n\n    .dataframe tbody tr th {\n        vertical-align: top;\n    }\n\n    .dataframe thead th {\n        text-align: right;\n    }\n</style>\n<table border=\"1\" class=\"dataframe\">\n  <thead>\n    <tr style=\"text-align: right;\">\n      <th></th>\n      <th>Title</th>\n      <th>Genre</th>\n      <th>Description</th>\n    </tr>\n  </thead>\n  <tbody>\n    <tr>\n      <th>1</th>\n      <td>Oscar et la dame rose (2009)</td>\n      <td>drama</td>\n      <td>Listening in to a conversation between his doctor and parents, 10-year-old Oscar learns what nobody has the courage to tell him. He only has a few weeks to live. Furious, he refuses to speak to anyone except straight-talking Rose, the lady in pink he meets on the hospital stairs. As Christmas approaches, Rose uses her fantastical experiences as a professional wrestler, her imagination, wit and charm to allow Oscar to live life and love to the full, in the company of his friends Pop Corn, Einstein, Bacon and childhood sweetheart Peggy Blue.</td>\n    </tr>\n    <tr>\n      <th>2</th>\n      <td>Cupid (1997)</td>\n      <td>thriller</td>\n      <td>A brother and sister with a past incestuous relationship have a current murderous relationship. He murders the women who reject him and she murders the women who get too close to him.</td>\n    </tr>\n    <tr>\n      <th>3</th>\n      <td>Young, Wild and Wonderful (1980)</td>\n      <td>adult</td>\n      <td>As the bus empties the students for their field trip to the Museum of Natural History, little does the tour guide suspect that the students are there for more than just another tour. First, during the lecture films, the coeds drift into dreams of the most erotic fantasies one can imagine. After the films, they release the emotion of the fantasies in the most erotic and uncommon ways. One slips off to the curator's office for a little \"acquisition. \" Another finds the anthropologist to see what bones can be identified. Even the head teacher isn't immune. Soon the tour is over, but as the bus departs, everyone admits it was quite an education.</td>\n    </tr>\n    <tr>\n      <th>4</th>\n      <td>The Secret Sin (1915)</td>\n      <td>drama</td>\n      <td>To help their unemployed father make ends meet, Edith and her twin sister Grace work as seamstresses . An invalid, Grace falls prey to the temptations of Chinatown opium and becomes an addict, a condition worsened by a misguided physician who prescribes morphine to ease her pain. When their father strikes oil, the family enjoys a new prosperity and the sisters meet the eligible Jack Herron, a fellow oil prospector. To Grace's shock, Jack falls in love with Edith and in her jealousy, Grace tells Jack that Edith, not she, has a drug problem. Hinting that her sister will soon need more morphine, Grace arranges for a dinner in Chinatown with the couple. While her sister and Jack dance, Grace slips away to an opium den. Edith follows her, but ends up in the wrong den and is arrested in an ensuing drug raid. After he bails her out of jail, Edith takes an angry Jack to search for Grace and stumbles across her half-conscious body lying in the street. The truth about the sisters is revealed, and after sending Grace to a sanitarium in the country, Jack and Edith are married.</td>\n    </tr>\n    <tr>\n      <th>5</th>\n      <td>The Unrecovered (2007)</td>\n      <td>drama</td>\n      <td>The film's title refers not only to the un-recovered bodies at ground zero, but also to the state of the nation at large. Set in the hallucinatory period of time between September 11 and Halloween of 2001, The Unrecovered examines the effect of terror on the average mind, the way a state of heightened anxiety and/or alertness can cause the average person to make the sort of imaginative connections that are normally made only by artists and conspiracy theorists-both of whom figure prominently in this film. The Unrecovered explores the way in which irony, empathy, and paranoia relate to one another in the wake of 9/11.</td>\n    </tr>\n  </tbody>\n</table>\n</div>"
     },
     "execution_count": 7,
     "metadata": {},
     "output_type": "execute_result"
    }
   ],
   "source": [
    "#check data\n",
    "pd.set_option('display.max_colwidth', None)\n",
    "print(len(train_df))\n",
    "train_df.head()"
   ],
   "metadata": {
    "collapsed": false,
    "ExecuteTime": {
     "end_time": "2023-12-27T13:35:44.734806Z",
     "start_time": "2023-12-27T13:35:44.719376Z"
    }
   },
   "id": "4a9d1154dca49969",
   "execution_count": 7
  },
  {
   "cell_type": "code",
   "outputs": [
    {
     "data": {
      "text/plain": "<Axes: xlabel='Genre'>"
     },
     "execution_count": 8,
     "metadata": {},
     "output_type": "execute_result"
    },
    {
     "data": {
      "text/plain": "<Figure size 640x480 with 1 Axes>",
      "image/png": "[encoded data removed]"
     },
     "metadata": {},
     "output_type": "display_data"
    }
   ],
   "source": [
    "#data distribution\n",
    "train_df['Genre'].value_counts().plot(kind='bar')"
   ],
   "metadata": {
    "collapsed": false,
    "ExecuteTime": {
     "end_time": "2023-12-27T13:35:45.660136Z",
     "start_time": "2023-12-27T13:35:44.738251Z"
    }
   },
   "id": "239de4394ad47076",
   "execution_count": 8
  },
  {
   "cell_type": "code",
   "outputs": [],
   "source": [
    "# TODO : write observations"
   ],
   "metadata": {
    "collapsed": false,
    "ExecuteTime": {
     "end_time": "2023-12-27T13:35:45.675451Z",
     "start_time": "2023-12-27T13:35:45.665624Z"
    }
   },
   "id": "4ff6b6151ba844bf",
   "execution_count": 9
  },
  {
   "cell_type": "markdown",
   "source": [
    "# Data Preprocessing"
   ],
   "metadata": {
    "collapsed": false
   },
   "id": "143edb96f8fbefd5"
  },
  {
   "cell_type": "code",
   "outputs": [
    {
     "data": {
      "text/plain": "Title          0\nGenre          0\nDescription    0\ndtype: int64"
     },
     "execution_count": 10,
     "metadata": {},
     "output_type": "execute_result"
    }
   ],
   "source": [
    "#check for null values\n",
    "train_df.isnull().sum()"
   ],
   "metadata": {
    "collapsed": false,
    "ExecuteTime": {
     "end_time": "2023-12-27T13:35:45.779443Z",
     "start_time": "2023-12-27T13:35:45.699170Z"
    }
   },
   "id": "3c2324c4bc88c265",
   "execution_count": 10
  },
  {
   "cell_type": "code",
   "outputs": [
    {
     "data": {
      "text/plain": "Title          0\nDescription    0\ndtype: int64"
     },
     "execution_count": 11,
     "metadata": {},
     "output_type": "execute_result"
    }
   ],
   "source": [
    "test_df.isnull().sum()"
   ],
   "metadata": {
    "collapsed": false,
    "ExecuteTime": {
     "end_time": "2023-12-27T13:35:45.809841Z",
     "start_time": "2023-12-27T13:35:45.729436Z"
    }
   },
   "id": "a594944fa42755d6",
   "execution_count": 11
  },
  {
   "cell_type": "markdown",
   "source": [
    "There is no null values in the data. We don't need to do any preprocessing for null values."
   ],
   "metadata": {
    "collapsed": false
   },
   "id": "7d9d0a8771904d3"
  },
  {
   "cell_type": "code",
   "outputs": [
    {
     "data": {
      "text/plain": "0"
     },
     "execution_count": 12,
     "metadata": {},
     "output_type": "execute_result"
    }
   ],
   "source": [
    "#check for duplicates\n",
    "train_df.duplicated().sum()"
   ],
   "metadata": {
    "collapsed": false,
    "ExecuteTime": {
     "end_time": "2023-12-27T13:35:46.039351Z",
     "start_time": "2023-12-27T13:35:45.746317Z"
    }
   },
   "id": "2f5d03a4f6c52f87",
   "execution_count": 12
  },
  {
   "cell_type": "code",
   "outputs": [
    {
     "data": {
      "text/plain": "0"
     },
     "execution_count": 13,
     "metadata": {},
     "output_type": "execute_result"
    }
   ],
   "source": [
    "test_df.duplicated().sum()"
   ],
   "metadata": {
    "collapsed": false,
    "ExecuteTime": {
     "end_time": "2023-12-27T13:35:46.200867Z",
     "start_time": "2023-12-27T13:35:46.034802Z"
    }
   },
   "id": "6c697767c3da7fd3",
   "execution_count": 13
  },
  {
   "cell_type": "markdown",
   "source": [
    "There are no duplicates in the data. We don't need to do any preprocessing for duplicates."
   ],
   "metadata": {
    "collapsed": false
   },
   "id": "c4ca1e75337f4560"
  },
  {
   "cell_type": "markdown",
   "source": [
    "There is a class imbalance in the data. We need to do some preprocessing for class imbalance. We will use undersampling to balance the data and create several balanced datasets in order not to lose too much data."
   ],
   "metadata": {
    "collapsed": false
   },
   "id": "38e29639e92a9c5"
  },
  {
   "cell_type": "code",
   "outputs": [
    {
     "data": {
      "text/plain": "Genre\ndrama          13613\ndocumentary    13096\ncomedy          7447\nshort           5073\nhorror          2204\nthriller        1591\naction          1315\nwestern         1032\nreality-tv       884\nfamily           784\nadventure        775\nmusic            731\nromance          672\nsci-fi           647\nadult            590\ncrime            505\nanimation        498\nsport            432\ntalk-show        391\nfantasy          323\nmystery          319\nmusical          277\nbiography        265\nhistory          243\ngame-show        194\nnews             181\nwar              132\nName: count, dtype: int64"
     },
     "execution_count": 14,
     "metadata": {},
     "output_type": "execute_result"
    }
   ],
   "source": [
    "#check how many values are there for each class\n",
    "train_df['Genre'].value_counts()"
   ],
   "metadata": {
    "collapsed": false,
    "ExecuteTime": {
     "end_time": "2023-12-27T13:35:46.202823Z",
     "start_time": "2023-12-27T13:35:46.192483Z"
    }
   },
   "id": "1dadf76390c3012f",
   "execution_count": 14
  },
  {
   "cell_type": "code",
   "outputs": [],
   "source": [
    "# create n balanced datasets\n",
    "n_datasets = 10\n",
    "balanced_datasets = []\n",
    "for i in range(n_datasets):\n",
    "    balanced_datasets.append(train_df.groupby('Genre').apply(lambda x: x.sample(1000,replace = True)).reset_index(drop=True))"
   ],
   "metadata": {
    "collapsed": false,
    "ExecuteTime": {
     "end_time": "2023-12-27T13:35:46.472495Z",
     "start_time": "2023-12-27T13:35:46.212281Z"
    }
   },
   "id": "62abe2147e692802",
   "execution_count": 15
  },
  {
   "cell_type": "markdown",
   "source": [
    "vectorize the data and remove stop words. We create two vectorizers, one for unigrams and one for bigrams and we will compare their performance."
   ],
   "metadata": {
    "collapsed": false
   },
   "id": "786481dc2685c3e8"
  },
  {
   "cell_type": "code",
   "outputs": [],
   "source": [
    "vectorizer_unigram = TfidfVectorizer(stop_words='english', ngram_range=(1, 1))\n",
    "synopses_tfidf_unigram = vectorizer_unigram.fit_transform(train_df['Description'])\n",
    "synopses_tfidf_unigram_balanced = []\n",
    "for i in range(n_datasets):\n",
    "    synopses_tfidf_unigram_balanced.append(vectorizer_unigram.transform(balanced_datasets[i]['Description']))\n",
    "vectorizer_bigram = TfidfVectorizer(stop_words='english', ngram_range=(2, 2))\n",
    "synopses_tfidf_bigram = vectorizer_bigram.fit_transform(train_df['Description'])\n",
    "synopses_tfidf_bigram_balanced = []\n",
    "for i in range(n_datasets):\n",
    "    synopses_tfidf_bigram_balanced.append(vectorizer_bigram.transform(balanced_datasets[i]['Description']))\n",
    "vectorizer_unigram_bigram = TfidfVectorizer(stop_words='english', ngram_range=(1, 2))\n",
    "synopses_tfidf_unigram_bigram = vectorizer_unigram_bigram.fit_transform(train_df['Description'])\n",
    "synopses_tfidf_unigram_bigram_balanced = []\n",
    "for i in range(n_datasets):\n",
    "    synopses_tfidf_unigram_bigram_balanced.append(vectorizer_unigram_bigram.transform(balanced_datasets[i]['Description']))"
   ],
   "metadata": {
    "collapsed": false,
    "ExecuteTime": {
     "end_time": "2023-12-27T13:36:57.021894Z",
     "start_time": "2023-12-27T13:35:46.534792Z"
    }
   },
   "id": "862c68f5502a01d0",
   "execution_count": 16
  },
  {
   "cell_type": "markdown",
   "source": [
    "# Model Building\n",
    "we will use several models and compare their performance"
   ],
   "metadata": {
    "collapsed": false
   },
   "id": "5ba5765538f42aee"
  },
  {
   "cell_type": "code",
   "outputs": [],
   "source": [
    "def fit_kmeans(data, n_clusters=3, kmeans=None):\n",
    "    \"\"\"Fit a k-means classifier to some data.\n",
    "\n",
    "    Arguments:\n",
    "        data: The vectorized data to train the classifier on.\n",
    "        n_clusters (int): The number of clusters.\n",
    "        kmeans: A k-means classifier to use. If None, a new classifier will be created.\n",
    "\n",
    "    Returns:\n",
    "        The trained k-means classifier.\n",
    "    \"\"\"\n",
    "    if kmeans is None:\n",
    "        kmeans = KMeans(n_clusters=n_clusters, n_init='auto')\n",
    "    kmeans.fit(data)\n",
    "    return kmeans"
   ],
   "metadata": {
    "collapsed": false,
    "ExecuteTime": {
     "end_time": "2023-12-27T13:36:57.345085Z",
     "start_time": "2023-12-27T13:36:57.014331Z"
    }
   },
   "id": "b6ca2c3a8fa65065",
   "execution_count": 17
  },
  {
   "cell_type": "code",
   "outputs": [],
   "source": [
    "n_clusters = train_df['Genre'].nunique()\n",
    "#load the models if they are already trained\n",
    "if 'kmeans_unigram_{}.joblib'.format(n_clusters) in os.listdir('models'):\n",
    "    kmeans_unigram = load('models/kmeans_unigram_{}.joblib'.format(n_clusters))\n",
    "else:\n",
    "    kmeans_unigram = None\n",
    "if 'kmeans_bigram_{}.joblib'.format(n_clusters) in os.listdir('models'):\n",
    "    kmeans_bigram = load('models/kmeans_bigram_{}.joblib'.format(n_clusters))\n",
    "else:\n",
    "    kmeans_bigram = None\n",
    "if 'kmeans_unigram_balanced_{}.joblib'.format(n_clusters) in os.listdir('models'):\n",
    "    kmeans_unigram_balanced = load('models/kmeans_unigram_balanced_{}.joblib'.format(n_clusters))\n",
    "else:\n",
    "    kmeans_unigram_balanced = None\n",
    "if 'kmeans_bigram_balanced_{}.joblib'.format(n_clusters) in os.listdir('models'):\n",
    "    kmeans_bigram_balanced = load('models/kmeans_bigram_balanced_{}.joblib'.format(n_clusters))\n",
    "else:\n",
    "    kmeans_bigram_balanced = None"
   ],
   "metadata": {
    "collapsed": false,
    "ExecuteTime": {
     "end_time": "2023-12-27T13:36:57.595699Z",
     "start_time": "2023-12-27T13:36:57.023392Z"
    }
   },
   "id": "f7ea0246300c15ec",
   "execution_count": 18
  },
  {
   "cell_type": "code",
   "outputs": [],
   "source": [
    "#train the models if they are not already trained and save them\n",
    "kmeans_unigram_trained = False\n",
    "kmeans_bigram_trained = False\n",
    "kmeans_unigram_balanced_trained = False\n",
    "kmeans_bigram_balanced_trained = False\n",
    "if kmeans_unigram is None:\n",
    "    kmeans_unigram = fit_kmeans(synopses_tfidf_unigram, n_clusters=n_clusters)\n",
    "    dump(kmeans_unigram, 'models/kmeans_unigram_{}.joblib'.format(n_clusters))\n",
    "if kmeans_bigram is None:\n",
    "    kmeans_bigram = fit_kmeans(synopses_tfidf_bigram, n_clusters=n_clusters)\n",
    "    dump(kmeans_bigram, 'models/kmeans_bigram_{}.joblib'.format(n_clusters))\n",
    "if kmeans_unigram_balanced is None:\n",
    "    kmeans_unigram_balanced = fit_kmeans(synopses_tfidf_unigram_balanced[0], n_clusters=n_clusters)\n",
    "    for i in range(1, n_datasets):\n",
    "        kmeans_unigram_balanced = fit_kmeans(synopses_tfidf_unigram_balanced[i], kmeans=kmeans_unigram_balanced)\n",
    "    dump(kmeans_unigram_balanced, 'models/kmeans_unigram_balanced_{}.joblib'.format(n_clusters))\n",
    "if kmeans_bigram_balanced is None:\n",
    "    kmeans_bigram_balanced = fit_kmeans(synopses_tfidf_bigram_balanced[0], n_clusters=n_clusters)\n",
    "    for i in range(1, n_datasets):\n",
    "        kmeans_bigram_balanced = fit_kmeans(synopses_tfidf_bigram_balanced[i], kmeans=kmeans_bigram_balanced)\n",
    "    dump(kmeans_bigram_balanced, 'models/kmeans_bigram_balanced_{}.joblib'.format(n_clusters))"
   ],
   "metadata": {
    "collapsed": false,
    "ExecuteTime": {
     "end_time": "2023-12-27T13:36:57.599202Z",
     "start_time": "2023-12-27T13:36:57.595432Z"
    }
   },
   "id": "9559118db1b6ad05",
   "execution_count": 19
  },
  {
   "cell_type": "code",
   "outputs": [],
   "source": [
    "def fit_random_forest(data, labels, n_estimators=100, random_state=0, rf=None):\n",
    "    \"\"\"Fit a random forest classifier to some data.\n",
    "\n",
    "    Arguments:\n",
    "        data: The vectorized data to train the classifier on.\n",
    "        labels: The gold-standard labels.\n",
    "        n_estimators (int): The number of trees in the forest.\n",
    "        random_state (int): The random seed.\n",
    "\n",
    "    Returns:\n",
    "        The trained random forest classifier.\n",
    "    \"\"\"\n",
    "    if rf is None:\n",
    "        rf = RandomForestClassifier(n_estimators=n_estimators, random_state=random_state)\n",
    "    rf.fit(data, labels)\n",
    "    return rf"
   ],
   "metadata": {
    "collapsed": false,
    "ExecuteTime": {
     "end_time": "2023-12-27T13:36:57.629468Z",
     "start_time": "2023-12-27T13:36:57.599493Z"
    }
   },
   "id": "732563e900a6e63c",
   "execution_count": 20
  },
  {
   "cell_type": "code",
   "outputs": [],
   "source": [
    "#load the models if they are already trained\n",
    "if 'rf_unigram_{}.joblib'.format(n_clusters) in os.listdir('models'):\n",
    "    rf_unigram = load('models/rf_unigram_{}.joblib'.format(n_clusters))\n",
    "else:\n",
    "    rf_unigram = None\n",
    "if 'rf_bigram_{}.joblib'.format(n_clusters) in os.listdir('models'):\n",
    "    rf_bigram = load('models/rf_bigram_{}.joblib'.format(n_clusters))\n",
    "else:\n",
    "    rf_bigram = None\n",
    "if 'rf_unigram_balanced_{}.joblib'.format(n_clusters) in os.listdir('models'):\n",
    "    rf_unigram_balanced = load('models/rf_unigram_balanced_{}.joblib'.format(n_clusters))\n",
    "else:\n",
    "    rf_unigram_balanced = None\n",
    "if 'rf_bigram_balanced_{}.joblib'.format(n_clusters) in os.listdir('models'):\n",
    "    rf_bigram_balanced = load('models/rf_bigram_balanced_{}.joblib'.format(n_clusters))\n",
    "else:\n",
    "    rf_bigram_balanced = None"
   ],
   "metadata": {
    "collapsed": false,
    "ExecuteTime": {
     "end_time": "2023-12-27T13:37:00.480048Z",
     "start_time": "2023-12-27T13:36:57.620230Z"
    }
   },
   "id": "e811642601bd7668",
   "execution_count": 21
  },
  {
   "cell_type": "code",
   "outputs": [],
   "source": [
    "#train the models if they are not already trained and save them\n",
    "if rf_unigram is None:\n",
    "    rf_unigram = fit_random_forest(synopses_tfidf_unigram, train_df['Genre'], n_estimators=100)\n",
    "    dump(rf_unigram, 'models/rf_unigram_{}.joblib'.format(n_clusters))\n",
    "if rf_bigram is None:\n",
    "    rf_bigram = fit_random_forest(synopses_tfidf_bigram, train_df['Genre'], n_estimators=100)\n",
    "    dump(rf_bigram, 'models/rf_bigram_{}.joblib'.format(n_clusters))\n",
    "if rf_unigram_balanced is None:\n",
    "    rf_unigram_balanced = fit_random_forest(synopses_tfidf_unigram_balanced[0], balanced_datasets[0]['Genre'], n_estimators=100)\n",
    "    for i in range(1, n_datasets):\n",
    "        rf_unigram_balanced = fit_random_forest(synopses_tfidf_unigram_balanced[i], balanced_datasets[i]['Genre'], n_estimators=100)\n",
    "    dump(rf_unigram_balanced, 'models/rf_unigram_balanced_{}.joblib'.format(n_clusters))\n",
    "if rf_bigram_balanced is None:\n",
    "    rf_bigram_balanced = fit_random_forest(synopses_tfidf_bigram_balanced[0], balanced_datasets[0]['Genre'], n_estimators=100)\n",
    "    for i in range(1, n_datasets):\n",
    "        rf_bigram_balanced = fit_random_forest(synopses_tfidf_bigram_balanced[i], balanced_datasets[i]['Genre'], n_estimators=100)\n",
    "    dump(rf_bigram_balanced, 'models/rf_bigram_balanced_{}.joblib'.format(n_clusters))"
   ],
   "metadata": {
    "collapsed": false,
    "is_executing": true,
    "ExecuteTime": {
     "start_time": "2023-12-27T14:11:46.592482Z"
    }
   },
   "id": "c9c20cb3ecdfedc5",
   "execution_count": null
  },
  {
   "cell_type": "code",
   "outputs": [],
   "source": [
    "#try to load the neural network model if it is already trained\n",
    "if 'mlp_unigram_{}.joblib'.format(n_clusters) in os.listdir('models'):\n",
    "    mlp_unigram = load('models/mlp_unigram_{}.joblib'.format(n_clusters))\n",
    "else:\n",
    "    mlp_unigram = None\n",
    "if 'mlp_bigram_{}.joblib'.format(n_clusters) in os.listdir('models'):\n",
    "    mlp_bigram = load('models/mlp_bigram_{}.joblib'.format(n_clusters))\n",
    "else:\n",
    "    mlp_bigram = None\n",
    "if 'mlp_unigram_balanced_{}.joblib'.format(n_clusters) in os.listdir('models'):\n",
    "    mlp_unigram_balanced = load('models/mlp_unigram_balanced_{}.joblib'.format(n_clusters))\n",
    "else:\n",
    "    mlp_unigram_balanced = None\n",
    "if 'mlp_bigram_balanced_{}.joblib'.format(n_clusters) in os.listdir('models'):\n",
    "    mlp_bigram_balanced = load('models/mlp_bigram_balanced_{}.joblib'.format(n_clusters))\n",
    "else:\n",
    "    mlp_bigram_balanced = None"
   ],
   "metadata": {
    "collapsed": false,
    "is_executing": true
   },
   "id": "45c0ba57b23c5fdc"
  },
  {
   "cell_type": "code",
   "outputs": [],
   "source": [
    "#train the neural network model if it is not already trained and save it\n",
    "if mlp_unigram is None:\n",
    "    mlp_unigram = MLPClassifier(random_state=1, max_iter=300).fit(synopses_tfidf_unigram, train_df['Genre'])\n",
    "    dump(mlp_unigram, 'models/mlp_unigram_{}.joblib'.format(n_clusters))\n",
    "if mlp_bigram is None:\n",
    "    mlp_bigram = MLPClassifier(random_state=1, max_iter=300).fit(synopses_tfidf_bigram, train_df['Genre'])\n",
    "    dump(mlp_bigram, 'models/mlp_bigram_{}.joblib'.format(n_clusters))\n",
    "if mlp_unigram_balanced is None:\n",
    "    mlp_unigram_balanced = MLPClassifier(random_state=1, max_iter=300).fit(synopses_tfidf_unigram_balanced[0], balanced_datasets[0]['Genre'])\n",
    "    for i in range(1, n_datasets):\n",
    "        mlp_unigram_balanced = MLPClassifier(random_state=1, max_iter=300).fit(synopses_tfidf_unigram_balanced[i], balanced_datasets[i]['Genre'])\n",
    "    dump(mlp_unigram_balanced, 'models/mlp_unigram_balanced_{}.joblib'.format(n_clusters))\n",
    "if mlp_bigram_balanced is None:\n",
    "    mlp_bigram_balanced = MLPClassifier(random_state=1, max_iter=300).fit(synopses_tfidf_bigram_balanced[0], balanced_datasets[0]['Genre'])\n",
    "    for i in range(1, n_datasets):\n",
    "        mlp_bigram_balanced = MLPClassifier(random_state=1, max_iter=300).fit(synopses_tfidf_bigram_balanced[i], balanced_datasets[i]['Genre'])\n",
    "    dump(mlp_bigram_balanced, 'models/mlp_bigram_balanced_{}.joblib'.format(n_clusters))"
   ],
   "metadata": {
    "collapsed": false,
    "is_executing": true
   },
   "id": "110eb75b5ebfb906"
  },
  {
   "cell_type": "markdown",
   "source": [
    "# Model Evaluation"
   ],
   "metadata": {
    "collapsed": false
   },
   "id": "331348dee95c2ad5"
  },
  {
   "cell_type": "code",
   "outputs": [],
   "source": [
    "def evaluate_model(model, data, labels):\n",
    "    \"\"\"Evaluate a model on some data using the Rand score.\n",
    "\n",
    "    Arguments:\n",
    "        model: The model to evaluate.\n",
    "        data: The data to evaluate the model on.\n",
    "        labels: The true labels for the data.\n",
    "\n",
    "    Returns:\n",
    "        The Rand score of the model on the data.\n",
    "    \"\"\"\n",
    "    predictions = model.predict(data)\n",
    "    return rand_score(labels, predictions)"
   ],
   "metadata": {
    "collapsed": false,
    "ExecuteTime": {
     "end_time": "2023-12-27T14:00:41.092039Z",
     "start_time": "2023-12-27T14:00:41.080532Z"
    }
   },
   "id": "397aec347284dd56",
   "execution_count": 24
  },
  {
   "cell_type": "code",
   "outputs": [
    {
     "name": "stdout",
     "output_type": "stream",
     "text": [
      "K-means unigram: 0.7998367156561139\n",
      "K-means bigram: 0.44473694904979366\n",
      "K-means unigram balanced: 0.8657950321891209\n",
      "K-means bigram balanced: 0.2585904910058397\n",
      "Random forest unigram: 0.9997599751147526\n",
      "Random forest bigram: 0.9997599751147526\n",
      "Random forest unigram balanced: 0.9791127737241297\n"
     ]
    }
   ],
   "source": [
    "print('K-means unigram: {}'.format(evaluate_model(kmeans_unigram, synopses_tfidf_unigram, train_df['Genre'])))\n",
    "print('K-means bigram: {}'.format(evaluate_model(kmeans_bigram, synopses_tfidf_bigram, train_df['Genre'])))\n",
    "print('K-means unigram balanced: {}'.format(evaluate_model(kmeans_unigram_balanced, synopses_tfidf_unigram_balanced[0], balanced_datasets[0]['Genre'])))\n",
    "print('K-means bigram balanced: {}'.format(evaluate_model(kmeans_bigram_balanced, synopses_tfidf_bigram_balanced[0], balanced_datasets[0]['Genre'])))\n",
    "print('Random forest unigram: {}'.format(evaluate_model(rf_unigram, synopses_tfidf_unigram, train_df['Genre'])))\n",
    "print('Random forest bigram: {}'.format(evaluate_model(rf_bigram, synopses_tfidf_bigram, train_df['Genre'])))\n",
    "print('Random forest unigram balanced: {}'.format(evaluate_model(rf_unigram_balanced, synopses_tfidf_unigram_balanced[0], balanced_datasets[0]['Genre'])))\n",
    "# print('Random forest bigram balanced: {}'.format(evaluate_model(rf_bigram_balanced, synopses_tfidf_bigram_balanced[0], balanced_datasets[0]['Genre'])))\n",
    "# print('Neural network unigram: {}'.format(evaluate_model(mlp_unigram, synopses_tfidf_unigram, train_df['Genre'])))\n",
    "# print('Neural network bigram: {}'.format(evaluate_model(mlp_bigram, synopses_tfidf_bigram, train_df['Genre'])))\n",
    "# print('Neural network unigram balanced: {}'.format(evaluate_model(mlp_unigram_balanced, synopses_tfidf_unigram_balanced[0], balanced_datasets[0]['Genre'])))\n",
    "# print('Neural network bigram balanced: {}'.format(evaluate_model(mlp_bigram_balanced, synopses_tfidf_bigram_balanced[0], balanced_datasets[0]['Genre'])))"
   ],
   "metadata": {
    "collapsed": false,
    "ExecuteTime": {
     "end_time": "2023-12-27T14:04:07.232588Z",
     "start_time": "2023-12-27T14:03:08.768716Z"
    }
   },
   "id": "bec317a50b3d6dd",
   "execution_count": 27
  },
  {
   "cell_type": "code",
   "outputs": [],
   "source": [
    "# TODO : write observations"
   ],
   "metadata": {
    "collapsed": false,
    "ExecuteTime": {
     "end_time": "2023-12-27T14:04:07.263261Z",
     "start_time": "2023-12-27T14:04:07.237260Z"
    }
   },
   "id": "e98fd0db8b7dfb9a",
   "execution_count": 28
  },
  {
   "cell_type": "code",
   "outputs": [
    {
     "name": "stdout",
     "output_type": "stream",
     "text": [
      "K-means unigram: 0.7999640500713204\n",
      "K-means bigram: 0.4361906195216494\n",
      "K-means unigram balanced: 0.7416109057989047\n",
      "K-means bigram balanced: 0.26011718738564166\n",
      "Random forest unigram: 0.641967593933767\n",
      "Random forest bigram: 0.5880565708072254\n",
      "Random forest unigram balanced: 0.8204990465299771\n"
     ]
    }
   ],
   "source": [
    "#predict the genres for the test data\n",
    "gold_standard = test_df_solution['Genre']\n",
    "print('K-means unigram: {}'.format(evaluate_model(kmeans_unigram, vectorizer_unigram.transform(test_df['Description']), gold_standard)))\n",
    "print('K-means bigram: {}'.format(evaluate_model(kmeans_bigram, vectorizer_bigram.transform(test_df['Description']), gold_standard)))\n",
    "print('K-means unigram balanced: {}'.format(evaluate_model(kmeans_unigram_balanced, vectorizer_unigram.transform(test_df['Description']), gold_standard)))\n",
    "print('K-means bigram balanced: {}'.format(evaluate_model(kmeans_bigram_balanced, vectorizer_bigram.transform(test_df['Description']), gold_standard)))\n",
    "print('Random forest unigram: {}'.format(evaluate_model(rf_unigram, vectorizer_unigram.transform(test_df['Description']), gold_standard)))\n",
    "print('Random forest bigram: {}'.format(evaluate_model(rf_bigram, vectorizer_bigram.transform(test_df['Description']), gold_standard)))\n",
    "print('Random forest unigram balanced: {}'.format(evaluate_model(rf_unigram_balanced, vectorizer_unigram.transform(test_df['Description']), gold_standard)))"
   ],
   "metadata": {
    "collapsed": false,
    "ExecuteTime": {
     "end_time": "2023-12-27T14:05:24.815092Z",
     "start_time": "2023-12-27T14:04:07.250267Z"
    }
   },
   "id": "9d83876bd1aa9a0e",
   "execution_count": 29
  },
  {
   "cell_type": "code",
   "outputs": [],
   "source": [
    "# TODO : write observations"
   ],
   "metadata": {
    "collapsed": false,
    "ExecuteTime": {
     "start_time": "2023-12-27T14:03:02.863805Z"
    }
   },
   "id": "bb7d2675e1150006"
  }
 ],
 "metadata": {
  "kernelspec": {
   "display_name": "Python 3",
   "language": "python",
   "name": "python3"
  },
  "language_info": {
   "codemirror_mode": {
    "name": "ipython",
    "version": 2
   },
   "file_extension": ".py",
   "mimetype": "text/x-python",
   "name": "python",
   "nbconvert_exporter": "python",
   "pygments_lexer": "ipython2",
   "version": "2.7.6"
  }
 },
 "nbformat": 4,
 "nbformat_minor": 5
}
